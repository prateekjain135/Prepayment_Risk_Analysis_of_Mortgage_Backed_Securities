{
 "cells": [
  {
   "cell_type": "code",
   "execution_count": 1,
   "id": "69278284-962a-41c2-80a0-12c9c2c6e610",
   "metadata": {},
   "outputs": [],
   "source": [
    "import pandas as pd\n",
    "import numpy as np\n",
    "import matplotlib.pyplot as plt\n",
    "import seaborn as sns\n",
    "%matplotlib inline"
   ]
  },
  {
   "cell_type": "code",
   "execution_count": 2,
   "id": "d09263dc-49f8-4350-bbc9-a587a9c73250",
   "metadata": {},
   "outputs": [],
   "source": [
    "df = pd.read_csv('LoanExport.csv', low_memory=False)"
   ]
  },
  {
   "cell_type": "code",
   "execution_count": 3,
   "id": "6baca51e-a65b-4d7b-903d-81d8690fe7fb",
   "metadata": {},
   "outputs": [
    {
     "data": {
      "text/html": [
       "<div>\n",
       "<style scoped>\n",
       "    .dataframe tbody tr th:only-of-type {\n",
       "        vertical-align: middle;\n",
       "    }\n",
       "\n",
       "    .dataframe tbody tr th {\n",
       "        vertical-align: top;\n",
       "    }\n",
       "\n",
       "    .dataframe thead th {\n",
       "        text-align: right;\n",
       "    }\n",
       "</style>\n",
       "<table border=\"1\" class=\"dataframe\">\n",
       "  <thead>\n",
       "    <tr style=\"text-align: right;\">\n",
       "      <th></th>\n",
       "      <th>CreditScore</th>\n",
       "      <th>FirstPaymentDate</th>\n",
       "      <th>FirstTimeHomebuyer</th>\n",
       "      <th>MaturityDate</th>\n",
       "      <th>MSA</th>\n",
       "      <th>MIP</th>\n",
       "      <th>Units</th>\n",
       "      <th>Occupancy</th>\n",
       "      <th>OCLTV</th>\n",
       "      <th>DTI</th>\n",
       "      <th>...</th>\n",
       "      <th>PostalCode</th>\n",
       "      <th>LoanSeqNum</th>\n",
       "      <th>LoanPurpose</th>\n",
       "      <th>OrigLoanTerm</th>\n",
       "      <th>NumBorrowers</th>\n",
       "      <th>SellerName</th>\n",
       "      <th>ServicerName</th>\n",
       "      <th>EverDelinquent</th>\n",
       "      <th>MonthsDelinquent</th>\n",
       "      <th>MonthsInRepayment</th>\n",
       "    </tr>\n",
       "  </thead>\n",
       "  <tbody>\n",
       "    <tr>\n",
       "      <th>0</th>\n",
       "      <td>0</td>\n",
       "      <td>199902</td>\n",
       "      <td>N</td>\n",
       "      <td>202901</td>\n",
       "      <td>16974</td>\n",
       "      <td>25</td>\n",
       "      <td>1</td>\n",
       "      <td>O</td>\n",
       "      <td>89</td>\n",
       "      <td>27</td>\n",
       "      <td>...</td>\n",
       "      <td>60400</td>\n",
       "      <td>F199Q1268030</td>\n",
       "      <td>P</td>\n",
       "      <td>360</td>\n",
       "      <td>2</td>\n",
       "      <td>FL</td>\n",
       "      <td>WASHINGTONMUTUALBANK</td>\n",
       "      <td>0</td>\n",
       "      <td>0</td>\n",
       "      <td>52</td>\n",
       "    </tr>\n",
       "    <tr>\n",
       "      <th>1</th>\n",
       "      <td>0</td>\n",
       "      <td>199902</td>\n",
       "      <td>N</td>\n",
       "      <td>202901</td>\n",
       "      <td>19740</td>\n",
       "      <td>0</td>\n",
       "      <td>1</td>\n",
       "      <td>O</td>\n",
       "      <td>73</td>\n",
       "      <td>17</td>\n",
       "      <td>...</td>\n",
       "      <td>80200</td>\n",
       "      <td>F199Q1015092</td>\n",
       "      <td>N</td>\n",
       "      <td>360</td>\n",
       "      <td>1</td>\n",
       "      <td>FT</td>\n",
       "      <td>CHASEHOMEFINANCELLC</td>\n",
       "      <td>0</td>\n",
       "      <td>0</td>\n",
       "      <td>144</td>\n",
       "    </tr>\n",
       "    <tr>\n",
       "      <th>2</th>\n",
       "      <td>0</td>\n",
       "      <td>199902</td>\n",
       "      <td>N</td>\n",
       "      <td>202901</td>\n",
       "      <td>29940</td>\n",
       "      <td>0</td>\n",
       "      <td>1</td>\n",
       "      <td>O</td>\n",
       "      <td>75</td>\n",
       "      <td>16</td>\n",
       "      <td>...</td>\n",
       "      <td>66000</td>\n",
       "      <td>F199Q1266886</td>\n",
       "      <td>N</td>\n",
       "      <td>360</td>\n",
       "      <td>2</td>\n",
       "      <td>FL</td>\n",
       "      <td>WASHINGTONMUTUALBANK</td>\n",
       "      <td>0</td>\n",
       "      <td>0</td>\n",
       "      <td>67</td>\n",
       "    </tr>\n",
       "    <tr>\n",
       "      <th>3</th>\n",
       "      <td>0</td>\n",
       "      <td>199902</td>\n",
       "      <td>N</td>\n",
       "      <td>202901</td>\n",
       "      <td>31084</td>\n",
       "      <td>0</td>\n",
       "      <td>1</td>\n",
       "      <td>O</td>\n",
       "      <td>76</td>\n",
       "      <td>14</td>\n",
       "      <td>...</td>\n",
       "      <td>90700</td>\n",
       "      <td>F199Q1178167</td>\n",
       "      <td>N</td>\n",
       "      <td>360</td>\n",
       "      <td>2</td>\n",
       "      <td>GM</td>\n",
       "      <td>GMACMTGECORP</td>\n",
       "      <td>0</td>\n",
       "      <td>0</td>\n",
       "      <td>35</td>\n",
       "    </tr>\n",
       "    <tr>\n",
       "      <th>4</th>\n",
       "      <td>0</td>\n",
       "      <td>199902</td>\n",
       "      <td>N</td>\n",
       "      <td>202901</td>\n",
       "      <td>35644</td>\n",
       "      <td>0</td>\n",
       "      <td>1</td>\n",
       "      <td>O</td>\n",
       "      <td>78</td>\n",
       "      <td>18</td>\n",
       "      <td>...</td>\n",
       "      <td>7600</td>\n",
       "      <td>F199Q1178517</td>\n",
       "      <td>N</td>\n",
       "      <td>360</td>\n",
       "      <td>2</td>\n",
       "      <td>GM</td>\n",
       "      <td>GMACMTGECORP</td>\n",
       "      <td>0</td>\n",
       "      <td>0</td>\n",
       "      <td>54</td>\n",
       "    </tr>\n",
       "  </tbody>\n",
       "</table>\n",
       "<p>5 rows × 28 columns</p>\n",
       "</div>"
      ],
      "text/plain": [
       "   CreditScore  FirstPaymentDate FirstTimeHomebuyer  MaturityDate    MSA  MIP  \\\n",
       "0            0            199902                  N        202901  16974   25   \n",
       "1            0            199902                  N        202901  19740    0   \n",
       "2            0            199902                  N        202901  29940    0   \n",
       "3            0            199902                  N        202901  31084    0   \n",
       "4            0            199902                  N        202901  35644    0   \n",
       "\n",
       "   Units Occupancy  OCLTV  DTI  ...  PostalCode    LoanSeqNum  LoanPurpose  \\\n",
       "0      1         O     89   27  ...       60400  F199Q1268030            P   \n",
       "1      1         O     73   17  ...       80200  F199Q1015092            N   \n",
       "2      1         O     75   16  ...       66000  F199Q1266886            N   \n",
       "3      1         O     76   14  ...       90700  F199Q1178167            N   \n",
       "4      1         O     78   18  ...        7600  F199Q1178517            N   \n",
       "\n",
       "  OrigLoanTerm NumBorrowers SellerName          ServicerName EverDelinquent  \\\n",
       "0          360            2         FL  WASHINGTONMUTUALBANK              0   \n",
       "1          360            1         FT  CHASEHOMEFINANCELLC               0   \n",
       "2          360            2         FL  WASHINGTONMUTUALBANK              0   \n",
       "3          360            2         GM  GMACMTGECORP                      0   \n",
       "4          360            2         GM  GMACMTGECORP                      0   \n",
       "\n",
       "  MonthsDelinquent MonthsInRepayment  \n",
       "0                0                52  \n",
       "1                0               144  \n",
       "2                0                67  \n",
       "3                0                35  \n",
       "4                0                54  \n",
       "\n",
       "[5 rows x 28 columns]"
      ]
     },
     "execution_count": 3,
     "metadata": {},
     "output_type": "execute_result"
    }
   ],
   "source": [
    "df.head()"
   ]
  },
  {
   "cell_type": "code",
   "execution_count": 4,
   "id": "088cffd5-bc91-41f6-abe4-25144b5610f1",
   "metadata": {},
   "outputs": [
    {
     "name": "stdout",
     "output_type": "stream",
     "text": [
      "<class 'pandas.core.frame.DataFrame'>\n",
      "RangeIndex: 291451 entries, 0 to 291450\n",
      "Data columns (total 28 columns):\n",
      " #   Column              Non-Null Count   Dtype  \n",
      "---  ------              --------------   -----  \n",
      " 0   CS                  291451 non-null  int64  \n",
      " 1   FirstPaymentDate    291451 non-null  int64  \n",
      " 2   FirstTimeHomebuyer  291451 non-null  object \n",
      " 3   MaturityDate        291451 non-null  int64  \n",
      " 4   MSA                 291451 non-null  object \n",
      " 5   MIP                 291451 non-null  int64  \n",
      " 6   Units               291451 non-null  int64  \n",
      " 7   Occupancy           291451 non-null  object \n",
      " 8   OCLTV               291451 non-null  int64  \n",
      " 9   DTI                 291451 non-null  int64  \n",
      " 10  OrigUPB             291451 non-null  int64  \n",
      " 11  LTV                 291451 non-null  int64  \n",
      " 12  OrigInterestRate    291451 non-null  float64\n",
      " 13  Channel             291451 non-null  object \n",
      " 14  PPM                 291451 non-null  object \n",
      " 15  ProductType         291451 non-null  object \n",
      " 16  PropertyState       291451 non-null  object \n",
      " 17  PropertyType        291451 non-null  object \n",
      " 18  PostalCode          291451 non-null  object \n",
      " 19  LoanSeqNum          291451 non-null  object \n",
      " 20  LoanPurpose         291451 non-null  object \n",
      " 21  OrigLoanTerm        291451 non-null  int64  \n",
      " 22  NumBorrowers        291451 non-null  object \n",
      " 23  SellerName          266457 non-null  object \n",
      " 24  ServicerName        291451 non-null  object \n",
      " 25  EverDelinquent      291451 non-null  int64  \n",
      " 26  MonthsDelinquent    291451 non-null  int64  \n",
      " 27  MonthsInRepayment   291451 non-null  int64  \n",
      "dtypes: float64(1), int64(13), object(14)\n",
      "memory usage: 62.3+ MB\n"
     ]
    },
    {
     "data": {
      "text/plain": [
       "(291451, 28)"
      ]
     },
     "execution_count": 4,
     "metadata": {},
     "output_type": "execute_result"
    }
   ],
   "source": [
    "col_name =df.columns[0]\n",
    "df=df.rename(columns = {col_name:'CS'})\n",
    "df.info()\n",
    "df.shape"
   ]
  },
  {
   "cell_type": "code",
   "execution_count": 5,
   "id": "733e19a3-18c1-4c75-b733-df9cc4e795d8",
   "metadata": {},
   "outputs": [],
   "source": [
    "for col in ['FirstPaymentDate','MSA',\n",
    "            'Occupancy','Channel','ProductType',\n",
    "            'SellerName','PostalCode','ServicerName',\n",
    "            'PPM','PropertyType','LoanPurpose',\n",
    "            'NumBorrowers']:\n",
    "    if col in df:\n",
    "        del df[col]"
   ]
  },
  {
   "cell_type": "code",
   "execution_count": 6,
   "id": "55964c92-2503-4517-b592-7a1dcd5c1069",
   "metadata": {},
   "outputs": [
    {
     "data": {
      "text/plain": [
       "<Axes: >"
      ]
     },
     "execution_count": 6,
     "metadata": {},
     "output_type": "execute_result"
    },
    {
     "data": {
      "image/png": "[encoded data removed]",
      "text/plain": [
       "<Figure size 640x480 with 1 Axes>"
      ]
     },
     "metadata": {},
     "output_type": "display_data"
    }
   ],
   "source": [
    "sns.heatmap(df.isnull(), yticklabels=False, cbar=False, cmap='viridis')"
   ]
  },
  {
   "cell_type": "code",
   "execution_count": 7,
   "id": "c78fbcbd-3355-48d7-9405-c207f19e3dd4",
   "metadata": {},
   "outputs": [
    {
     "name": "stdout",
     "output_type": "stream",
     "text": [
      "<class 'pandas.core.frame.DataFrame'>\n",
      "RangeIndex: 291451 entries, 0 to 291450\n",
      "Data columns (total 16 columns):\n",
      " #   Column              Non-Null Count   Dtype  \n",
      "---  ------              --------------   -----  \n",
      " 0   CS                  291451 non-null  int64  \n",
      " 1   FirstTimeHomebuyer  291451 non-null  object \n",
      " 2   MaturityDate        291451 non-null  int64  \n",
      " 3   MIP                 291451 non-null  int64  \n",
      " 4   Units               291451 non-null  int64  \n",
      " 5   OCLTV               291451 non-null  int64  \n",
      " 6   DTI                 291451 non-null  int64  \n",
      " 7   OrigUPB             291451 non-null  int64  \n",
      " 8   LTV                 291451 non-null  int64  \n",
      " 9   OrigInterestRate    291451 non-null  float64\n",
      " 10  PropertyState       291451 non-null  object \n",
      " 11  LoanSeqNum          291451 non-null  object \n",
      " 12  OrigLoanTerm        291451 non-null  int64  \n",
      " 13  EverDelinquent      291451 non-null  int64  \n",
      " 14  MonthsDelinquent    291451 non-null  int64  \n",
      " 15  MonthsInRepayment   291451 non-null  int64  \n",
      "dtypes: float64(1), int64(12), object(3)\n",
      "memory usage: 35.6+ MB\n"
     ]
    },
    {
     "data": {
      "text/plain": [
       "(291451, 16)"
      ]
     },
     "execution_count": 7,
     "metadata": {},
     "output_type": "execute_result"
    }
   ],
   "source": [
    "df.info()\n",
    "df.shape"
   ]
  },
  {
   "cell_type": "code",
   "execution_count": 8,
   "id": "56271401-a022-4da2-9b36-ca54db8b5700",
   "metadata": {},
   "outputs": [
    {
     "data": {
      "text/plain": [
       "array([  0, 335, 342, 363, 366, 370, 375, 391, 396, 445, 462, 466, 471,\n",
       "       476, 477, 478, 479, 481, 482, 483, 485, 486, 487, 489, 490, 491,\n",
       "       492, 493, 494, 495, 496, 497, 498, 499, 500, 501, 502, 503, 504,\n",
       "       505, 506, 507, 508, 509, 510, 511, 512, 513, 514, 515, 516, 517,\n",
       "       518, 519, 520, 521, 522, 523, 524, 525, 526, 527, 528, 529, 530,\n",
       "       531, 532, 533, 534, 535, 536, 537, 538, 539, 540, 541, 542, 543,\n",
       "       544, 545, 546, 547, 548, 549, 550, 551, 552, 553, 554, 555, 556,\n",
       "       557, 558, 559, 560, 561, 562, 563, 564, 565, 566, 567, 568, 569,\n",
       "       570, 571, 572, 573, 574, 575, 576, 577, 578, 579, 580, 581, 582,\n",
       "       583, 584, 585, 586, 587, 588, 589, 590, 591, 592, 593, 594, 595,\n",
       "       596, 597, 598, 599, 600, 601, 602, 603, 604, 605, 606, 607, 608,\n",
       "       609, 610, 611, 612, 613, 614, 615, 616, 617, 618, 619, 620, 621,\n",
       "       622, 623, 624, 625, 626, 627, 628, 629, 630, 631, 632, 633, 634,\n",
       "       635, 636, 637, 638, 639, 640, 641, 642, 643, 644, 645, 646, 647,\n",
       "       648, 649, 650, 651, 652, 653, 654, 655, 656, 657, 658, 659, 660,\n",
       "       661, 662, 663, 664, 665, 666, 667, 668, 669, 670, 671, 672, 673,\n",
       "       674, 675, 676, 677, 678, 679, 680, 681, 682, 683, 684, 685, 686,\n",
       "       687, 688, 689, 690, 691, 692, 693, 694, 695, 696, 697, 698, 699,\n",
       "       700, 701, 702, 703, 704, 705, 706, 707, 708, 709, 710, 711, 712,\n",
       "       713, 714, 715, 716, 717, 718, 719, 720, 721, 722, 723, 724, 725,\n",
       "       726, 727, 728, 729, 730, 731, 732, 733, 734, 735, 736, 737, 738,\n",
       "       739, 740, 741, 742, 743, 744, 745, 746, 747, 748, 749, 750, 751,\n",
       "       752, 753, 754, 755, 756, 757, 758, 759, 760, 761, 762, 763, 764,\n",
       "       765, 766, 767, 768, 769, 770, 771, 772, 773, 774, 775, 776, 777,\n",
       "       778, 779, 780, 781, 782, 783, 784, 785, 786, 787, 788, 789, 790,\n",
       "       791, 792, 793, 794, 795, 796, 797, 798, 799, 800, 801, 802, 803,\n",
       "       804, 805, 806, 807, 808, 809, 810, 811, 812, 813, 814, 815, 816,\n",
       "       817, 818, 819, 820, 822, 823, 825, 826, 827, 828, 829, 831, 835,\n",
       "       837, 838, 839, 840, 845, 849], dtype=int64)"
      ]
     },
     "execution_count": 8,
     "metadata": {},
     "output_type": "execute_result"
    }
   ],
   "source": [
    "df.CS.unique()"
   ]
  },
  {
   "cell_type": "code",
   "execution_count": 9,
   "id": "f2665eb5-11c0-461f-9825-ed8f05783a42",
   "metadata": {},
   "outputs": [
    {
     "data": {
      "text/plain": [
       "array([335, 342, 363, 366, 370, 375, 391, 396, 445, 462, 466, 471, 476,\n",
       "       477, 478, 479, 481, 482, 483, 485, 486, 487, 489, 490, 491, 492,\n",
       "       493, 494, 495, 496, 497, 498, 499, 500, 501, 502, 503, 504, 505,\n",
       "       506, 507, 508, 509, 510, 511, 512, 513, 514, 515, 516, 517, 518,\n",
       "       519, 520, 521, 522, 523, 524, 525, 526, 527, 528, 529, 530, 531,\n",
       "       532, 533, 534, 535, 536, 537, 538, 539, 540, 541, 542, 543, 544,\n",
       "       545, 546, 547, 548, 549, 550, 551, 552, 553, 554, 555, 556, 557,\n",
       "       558, 559, 560, 561, 562, 563, 564, 565, 566, 567, 568, 569, 570,\n",
       "       571, 572, 573, 574, 575, 576, 577, 578, 579, 580, 581, 582, 583,\n",
       "       584, 585, 586, 587, 588, 589, 590, 591, 592, 593, 594, 595, 596,\n",
       "       597, 598, 599, 600, 601, 602, 603, 604, 605, 606, 607, 608, 609,\n",
       "       610, 611, 612, 613, 614, 615, 616, 617, 618, 619, 620, 621, 622,\n",
       "       623, 624, 625, 626, 627, 628, 629, 630, 631, 632, 633, 634, 635,\n",
       "       636, 637, 638, 639, 640, 641, 642, 643, 644, 645, 646, 647, 648,\n",
       "       649, 650, 651, 652, 653, 654, 655, 656, 657, 658, 659, 660, 661,\n",
       "       662, 663, 664, 665, 666, 667, 668, 669, 670, 671, 672, 673, 674,\n",
       "       675, 676, 677, 678, 679, 680, 681, 682, 683, 684, 685, 686, 687,\n",
       "       688, 689, 690, 691, 692, 693, 694, 695, 696, 697, 698, 699, 700,\n",
       "       701, 702, 703, 704, 705, 706, 707, 708, 709, 710, 711, 712, 713,\n",
       "       714, 715, 716, 717, 718, 719, 720, 721, 722, 723, 724, 725, 726,\n",
       "       727, 728, 729, 730, 731, 732, 733, 734, 735, 736, 737, 738, 739,\n",
       "       740, 741, 742, 743, 744, 745, 746, 747, 748, 749, 750, 751, 752,\n",
       "       753, 754, 755, 756, 757, 758, 759, 760, 761, 762, 763, 764, 765,\n",
       "       766, 767, 768, 769, 770, 771, 772, 773, 774, 775, 776, 777, 778,\n",
       "       779, 780, 781, 782, 783, 784, 785, 786, 787, 788, 789, 790, 791,\n",
       "       792, 793, 794, 795, 796, 797, 798, 799, 800, 801, 802, 803, 804,\n",
       "       805, 806, 807, 808, 809, 810, 811, 812, 813, 814, 815, 816, 817,\n",
       "       818, 819, 820, 822, 823, 825, 826, 827, 828, 829, 831, 835, 837,\n",
       "       838, 839, 840, 845, 849], dtype=int64)"
      ]
     },
     "execution_count": 9,
     "metadata": {},
     "output_type": "execute_result"
    }
   ],
   "source": [
    "df = df[df.CS != 0]\n",
    "df.CS.unique()"
   ]
  },
  {
   "cell_type": "code",
   "execution_count": 10,
   "id": "bb0b97f3-a5fb-48b5-b11c-fabbf3ad387d",
   "metadata": {},
   "outputs": [
    {
     "data": {
      "text/plain": [
       "array(['N', 'X', 'Y'], dtype=object)"
      ]
     },
     "execution_count": 10,
     "metadata": {},
     "output_type": "execute_result"
    }
   ],
   "source": [
    "df.FirstTimeHomebuyer.unique()"
   ]
  },
  {
   "cell_type": "code",
   "execution_count": 11,
   "id": "2a616d68-c8f8-4633-820f-423963cac99b",
   "metadata": {},
   "outputs": [
    {
     "data": {
      "text/plain": [
       "array(['N', 'Y'], dtype=object)"
      ]
     },
     "execution_count": 11,
     "metadata": {},
     "output_type": "execute_result"
    }
   ],
   "source": [
    "df = df[df.FirstTimeHomebuyer != 'X']\n",
    "df.FirstTimeHomebuyer.unique()"
   ]
  },
  {
   "cell_type": "code",
   "execution_count": 12,
   "id": "b1c7a967-37e9-4cac-aa38-c57f4ad7d65d",
   "metadata": {},
   "outputs": [
    {
     "data": {
      "text/plain": [
       "FirstTimeHomebuyer\n",
       "N    183445\n",
       "Y     29006\n",
       "Name: count, dtype: int64"
      ]
     },
     "execution_count": 12,
     "metadata": {},
     "output_type": "execute_result"
    }
   ],
   "source": [
    "df['FirstTimeHomebuyer'].value_counts()"
   ]
  },
  {
   "cell_type": "code",
   "execution_count": 13,
   "id": "0b51218c-18b2-482f-9bbd-ab448914e477",
   "metadata": {},
   "outputs": [
    {
     "data": {
      "text/plain": [
       "IsFirstTime\n",
       "0    183445\n",
       "1     29006\n",
       "Name: count, dtype: int64"
      ]
     },
     "execution_count": 13,
     "metadata": {},
     "output_type": "execute_result"
    }
   ],
   "source": [
    "df = df.rename(columns = {'FirstTimeHomebuyer':'IsFirstTime'})\n",
    "df['IsFirstTime'] = np.where(df['IsFirstTime'] == 'Y', 1, 0)\n",
    "df['IsFirstTime'].value_counts()"
   ]
  },
  {
   "cell_type": "code",
   "execution_count": 14,
   "id": "87be6f43-a030-439d-852b-8b6845d26532",
   "metadata": {},
   "outputs": [
    {
     "data": {
      "text/plain": [
       "array([202903, 202904, 202902, 203008, 202908, 202910, 202901, 202909,\n",
       "       202803, 203003, 202907, 202905, 202607, 203006, 203002, 202509,\n",
       "       202911, 202611, 202703, 202706, 202502, 202906, 202612, 202705,\n",
       "       203001, 202704, 202610, 202701, 202601, 202702, 202712, 202609,\n",
       "       202709, 202912, 203004, 202806, 202802, 202605, 202602, 202811,\n",
       "       202608, 203101, 202805, 203012, 202809, 202804, 202504, 203005,\n",
       "       202405, 202810, 203308, 202808, 202406, 202708, 203007, 202812,\n",
       "       202606, 202807, 203009, 202710, 202506, 202707, 202711, 203010,\n",
       "       202603, 202503, 203211, 203111, 202512, 202402, 202511, 202510,\n",
       "       202604, 202410, 202508, 202801, 203312, 202507, 202408, 203104,\n",
       "       204111, 204302, 202501, 203212, 203011, 202411, 202403, 203304,\n",
       "       202404, 203106, 203210, 203202, 202505, 202409], dtype=int64)"
      ]
     },
     "execution_count": 14,
     "metadata": {},
     "output_type": "execute_result"
    }
   ],
   "source": [
    "df.MaturityDate.unique()"
   ]
  },
  {
   "cell_type": "code",
   "execution_count": 15,
   "id": "a6500647-9a65-476a-a3d8-8a0dde55e37b",
   "metadata": {},
   "outputs": [
    {
     "data": {
      "text/plain": [
       "array([ 0, 30, 25, 12, 18, 35, 17, 22,  6, 20, 29, 14, 33, 16, 52, 36, 28,\n",
       "       11, 45, 27, 10, 50, 47,  7, 24, 15, 37, 32, 26,  1, 13, 21, 23, 55,\n",
       "        4], dtype=int64)"
      ]
     },
     "execution_count": 15,
     "metadata": {},
     "output_type": "execute_result"
    }
   ],
   "source": [
    "df.MIP.unique()"
   ]
  },
  {
   "cell_type": "code",
   "execution_count": 16,
   "id": "e5b13967-c0f9-4221-aa84-11ee7fa14e27",
   "metadata": {},
   "outputs": [
    {
     "data": {
      "text/plain": [
       "array([1, 2, 3, 4, 0], dtype=int64)"
      ]
     },
     "execution_count": 16,
     "metadata": {},
     "output_type": "execute_result"
    }
   ],
   "source": [
    "df.Units.unique()"
   ]
  },
  {
   "cell_type": "code",
   "execution_count": 17,
   "id": "22e64283-7d9b-4979-a9c6-c8b9619b29ae",
   "metadata": {},
   "outputs": [
    {
     "data": {
      "text/plain": [
       "Units\n",
       "1    208561\n",
       "2      3205\n",
       "3       342\n",
       "4       341\n",
       "0         2\n",
       "Name: count, dtype: int64"
      ]
     },
     "execution_count": 17,
     "metadata": {},
     "output_type": "execute_result"
    }
   ],
   "source": [
    "df['Units'].value_counts()"
   ]
  },
  {
   "cell_type": "code",
   "execution_count": 18,
   "id": "5832e20a-68be-434d-8ab1-a1d6f4175b1f",
   "metadata": {},
   "outputs": [],
   "source": [
    "df = df[df.Units != 0]"
   ]
  },
  {
   "cell_type": "code",
   "execution_count": 19,
   "id": "721faf09-778b-4909-9bfe-a532e6c87ecd",
   "metadata": {},
   "outputs": [
    {
     "data": {
      "text/plain": [
       "array([ 71,  79,  65,  64,  66,  95,  90,  89,  67,  72,  92,  80,  78,\n",
       "        74,  87,  76,  68,  84,  73,  70,  97,  85,  28,  82,  69,  52,\n",
       "        75,  62,  61,  63,  55,  83,  43,  37,  46,  77,  94,  60,  53,\n",
       "        86,  50,  34,  93,  88,  54,  51,  47, 100,  57,  96,  48,  59,\n",
       "        49,  30,  81,  56,  42,  40,  91,  58,  36,  98,  31,  32,  29,\n",
       "        35,  38,  45,  25,  26,  33,  39,  41, 103,  44,  10,  18,  23,\n",
       "        20,  22,  15,  24, 102, 101,  14,  16,  21,  27, 105,  19,   8,\n",
       "         0, 104,  17, 110,  99,  12,   6,  13,   9,  11,   7], dtype=int64)"
      ]
     },
     "execution_count": 19,
     "metadata": {},
     "output_type": "execute_result"
    }
   ],
   "source": [
    "df.OCLTV.unique()"
   ]
  },
  {
   "cell_type": "code",
   "execution_count": 20,
   "id": "db7e1ae3-5a50-429e-865c-6dd886e4fb6c",
   "metadata": {},
   "outputs": [
    {
     "data": {
      "text/plain": [
       "array([21, 28, 25, 22, 37,  0, 40, 41, 34, 20, 32, 23, 19, 27, 24, 29, 33,\n",
       "       50, 38, 35, 31, 64, 39, 42, 16, 17, 13, 36, 46, 26, 45, 18, 43,  6,\n",
       "       11, 57, 48, 44,  7, 49, 10, 14, 54,  8, 56, 30, 15, 59, 51, 52, 53,\n",
       "       55, 12,  4, 65, 60,  9, 47,  2, 58,  5,  1, 61, 62,  3, 63],\n",
       "      dtype=int64)"
      ]
     },
     "execution_count": 20,
     "metadata": {},
     "output_type": "execute_result"
    }
   ],
   "source": [
    "df.DTI.unique()"
   ]
  },
  {
   "cell_type": "code",
   "execution_count": 21,
   "id": "981a751e-ecc2-4fd3-9b32-40a34e0694fb",
   "metadata": {},
   "outputs": [],
   "source": [
    "df = df[df.DTI != 0]"
   ]
  },
  {
   "cell_type": "code",
   "execution_count": 22,
   "id": "f74063b3-8613-4b15-905b-906b16f03574",
   "metadata": {},
   "outputs": [
    {
     "data": {
      "text/plain": [
       "array([116000,  96000,  66000, 125000,  65000,  79000, 111000, 110000,\n",
       "        68000, 166000,  62000, 284000, 106000,  54000, 144000, 131000,\n",
       "       123000, 147000,  70000,  88000, 126000, 214000,  85000, 121000,\n",
       "       300000,  40000, 134000, 109000, 204000, 103000, 185000, 137000,\n",
       "        73000,  57000,  92000, 108000, 170000, 206000, 152000,  56000,\n",
       "        60000,  61000, 119000,  98000,  71000,  75000, 100000, 112000,\n",
       "        99000,  90000, 102000, 239000, 178000, 261000,  86000, 154000,\n",
       "        34000, 113000, 142000,  25000, 176000,  63000, 118000, 174000,\n",
       "        76000,  69000, 169000, 135000, 140000, 149000, 164000,  47000,\n",
       "       183000,  72000,  48000,  36000,  95000,  50000, 180000,  78000,\n",
       "        83000, 232000, 128000, 168000, 145000, 222000, 120000, 211000,\n",
       "       160000, 130000, 146000, 184000, 225000, 223000,  58000, 229000,\n",
       "       156000, 101000, 136000,  80000, 306000,  44000, 161000,  51000,\n",
       "        84000, 159000,  30000, 153000,  94000, 175000, 203000,  41000,\n",
       "        91000, 151000,  89000,  49000, 162000, 105000,  52000, 141000,\n",
       "        46000, 167000,  24000,  43000, 124000, 129000, 182000, 107000,\n",
       "       155000, 138000, 104000, 171000,  23000, 224000,  67000, 250000,\n",
       "        59000, 122000,  35000, 200000, 221000, 212000, 114000, 179000,\n",
       "        64000, 139000, 189000,  74000, 240000, 190000, 143000,  93000,\n",
       "       165000, 158000, 157000, 173000, 127000, 187000, 220000,  53000,\n",
       "        45000, 132000, 196000, 205000, 148000,  38000,  97000, 209000,\n",
       "        77000, 215000, 199000, 172000, 219000, 193000, 150000, 230000,\n",
       "       192000, 117000, 198000, 236000,  87000, 163000, 133000, 115000,\n",
       "       226000, 254000, 216000, 235000,  37000,  39000, 247000,  55000,\n",
       "       244000, 329000, 210000,  27000,  81000, 217000, 191000, 181000,\n",
       "       201000, 272000, 207000,  31000, 227000, 194000, 197000, 233000,\n",
       "       238000, 208000, 177000, 213000, 270000, 252000, 264000, 348000,\n",
       "        82000, 228000, 202000, 276000, 266000, 234000, 186000, 188000,\n",
       "       218000, 291000, 237000, 274000,  26000,  33000, 195000,  20000,\n",
       "       280000,  42000,  32000, 338000, 231000, 256000, 267000,  29000,\n",
       "        28000, 258000, 257000, 265000, 248000, 282000, 251000,  17000,\n",
       "       262000, 285000,  16000,  14000, 260000, 287000, 319000,  15000,\n",
       "       390000,  22000, 304000, 269000, 249000, 275000, 278000, 241000,\n",
       "       359000, 259000,  18000, 299000, 297000, 253000, 242000, 273000,\n",
       "       277000, 286000, 302000, 243000, 271000, 360000, 290000, 255000,\n",
       "       307000,  10000, 303000, 268000, 263000,  21000, 350000, 293000,\n",
       "       292000, 288000, 279000, 296000, 352000, 325000, 326000, 328000,\n",
       "       305000, 294000, 345000, 331000, 320000, 283000, 246000,  19000,\n",
       "       289000, 400000, 308000, 281000, 310000, 312000, 368000, 428000,\n",
       "       330000, 336000, 245000, 309000, 311000, 316000, 423000, 298000,\n",
       "       358000, 340000, 327000, 354000, 399000, 339000, 461000, 364000,\n",
       "        13000, 295000, 497000, 315000, 341000,  12000, 442000, 324000,\n",
       "       344000, 431000, 301000, 413000, 313000, 323000, 322000, 346000,\n",
       "       389000, 398000,  11000, 314000, 370000, 440000, 332000, 317000,\n",
       "       402000, 371000, 333000, 361000], dtype=int64)"
      ]
     },
     "execution_count": 22,
     "metadata": {},
     "output_type": "execute_result"
    }
   ],
   "source": [
    "df.OrigUPB.unique()"
   ]
  },
  {
   "cell_type": "code",
   "execution_count": 23,
   "id": "5052972e-5c6c-4878-a15d-0ffe122064a2",
   "metadata": {},
   "outputs": [
    {
     "data": {
      "text/plain": [
       "array([ 71,  79,  65,  64,  66,  95,  89,  67,  72,  80,  78,  74,  87,\n",
       "        90,  76,  68,  84,  73,  70,  97,  85,  28,  82,  69,  52,  75,\n",
       "        62,  61,  63,  83,  43,  92,  37,  46,  94,  60,  77,  53,  86,\n",
       "        50,  34,  93,  88,  54,  51,  47, 100,  57,  55,  96,  48,  59,\n",
       "        49,  30,  81,  56,  42,  40,  91,  58,  36,  98,  31,  32,  35,\n",
       "        38,  45,  25,  26,  33,  39,  41,  44,  10,  18,  23,  20,  15,\n",
       "        24,  29, 103,  14,  16,  21,  27,  22,  19,   8,  17,  12,   6,\n",
       "        13,   9,  11,   7,   0], dtype=int64)"
      ]
     },
     "execution_count": 23,
     "metadata": {},
     "output_type": "execute_result"
    }
   ],
   "source": [
    "df.LTV.unique()"
   ]
  },
  {
   "cell_type": "code",
   "execution_count": 24,
   "id": "67a666d3-b0c4-4ac1-9b9b-309b44d46e28",
   "metadata": {},
   "outputs": [],
   "source": [
    "df = df[df.LTV != 0]"
   ]
  },
  {
   "cell_type": "code",
   "execution_count": 25,
   "id": "a613c3ce-17f2-4d25-bf04-d5ac1739cafd",
   "metadata": {},
   "outputs": [
    {
     "data": {
      "text/plain": [
       "array([ 6.875,  6.625,  6.5  ,  7.   ,  7.125,  7.625,  7.375,  8.625,\n",
       "        7.5  ,  6.75 ,  8.25 ,  7.875,  6.25 ,  7.75 ,  7.25 ,  6.125,\n",
       "        8.375,  6.375,  8.99 ,  8.5  ,  8.   ,  5.625,  7.2  ,  8.125,\n",
       "        8.75 ,  9.   ,  5.875,  9.125,  6.99 ,  6.   ,  8.365,  6.95 ,\n",
       "        8.875,  6.975,  7.3  ,  7.313,  9.625,  9.25 ,  5.75 ,  7.85 ,\n",
       "        8.695,  7.775,  7.29 ,  7.405,  9.5  ,  9.375,  9.75 ,  7.13 ,\n",
       "        7.1  ,  5.99 ,  6.999,  7.05 ,  7.055,  7.09 ,  6.785,  7.08 ,\n",
       "        7.025,  7.7  ,  7.58 , 10.5  ,  7.55 ,  7.445,  9.875,  6.85 ,\n",
       "        6.925,  6.9  ,  8.37 ,  5.375,  7.095,  7.19 ,  7.456,  9.675,\n",
       "        7.475,  7.22 ,  7.17 ,  8.7  ,  7.301,  8.9  ,  7.15 , 10.   ,\n",
       "        6.62 ,  7.325, 10.375,  7.8  ,  7.4  , 10.85 ,  7.185,  7.245,\n",
       "        5.25 , 11.5  ,  6.94 ,  6.87 ,  7.65 ,  7.312,  7.28 ,  7.39 ,\n",
       "        7.07 ,  5.5  ,  7.43 ,  7.48 ,  6.88 ,  8.45 ,  6.895,  6.3  ,\n",
       "        7.49 ,  6.8  ,  6.63 ,  8.05 ,  7.275,  7.175,  7.225,  7.075,\n",
       "        4.875,  8.8  ,  7.33 ,  9.95 ,  7.35 ,  7.23 ,  7.91 ,  7.575,\n",
       "        7.425,  7.03 ,  7.31 , 10.625,  7.14 ,  7.12 ,  7.24 ,  7.013,\n",
       "        6.4  ,  6.49 ,  6.55 ,  6.97 ,  7.355,  7.878,  8.27 ,  7.38 ,\n",
       "        6.7  ,  7.45 ,  7.105,  9.35 , 10.75 ,  7.365,  6.871,  5.96 ,\n",
       "        8.3  ,  7.36 ,  9.975,  7.32 , 11.125,  6.1  ,  6.883,  7.95 ,\n",
       "        6.65 ,  7.6  ,  7.54 , 11.1  ,  6.955,  9.99 ,  7.023,  5.89 ,\n",
       "        6.35 ,  8.32 ,  8.315,  7.62 ,  7.188,  6.6  ,  7.26 ,  8.14 ,\n",
       "        7.072,  7.106,  7.066,  6.225,  7.016,  7.255,  6.715,  6.545,\n",
       "        7.056,  6.45 ,  6.69 ,  8.1  ,  8.485,  6.825,  7.06 ,  6.2  ,\n",
       "        7.085,  7.495,  7.158,  6.33 ,  8.13 ,  8.18 ,  7.66 ,  6.602,\n",
       "        7.293,  6.995,  7.371,  6.98 ,  8.06 ,  6.92 ,  6.685,  6.51 ,\n",
       "        6.813,  7.165,  7.04 ,  8.255,  7.825,  7.624,  7.195,  7.265,\n",
       "        6.935,  6.965,  4.   ,  6.948,  7.64 ,  7.02 ,  6.74 ,  6.96 ,\n",
       "        6.957,  7.063,  7.415,  7.21 ,  6.15 ,  6.79 ,  7.399,  7.059,\n",
       "        7.305,  7.395,  7.93 ,  7.99 ,  5.125,  7.154,  6.09 ,  5.8  ])"
      ]
     },
     "execution_count": 25,
     "metadata": {},
     "output_type": "execute_result"
    }
   ],
   "source": [
    "df.OrigInterestRate.unique()"
   ]
  },
  {
   "cell_type": "code",
   "execution_count": 26,
   "id": "54250b19-16e3-4616-9e64-dc45d6edb836",
   "metadata": {},
   "outputs": [
    {
     "data": {
      "text/plain": [
       "array([360, 344, 348, 313, 316, 354, 327, 353, 322, 319, 332, 336, 338,\n",
       "       312, 328, 351, 333, 359, 331, 337, 334, 357, 335, 345, 330, 350,\n",
       "       341, 343, 325, 326, 346, 324, 347, 352, 356, 329, 355, 339, 317,\n",
       "       349, 342, 304, 340, 301, 309, 315, 358, 306, 323, 321, 320, 302,\n",
       "       318, 303, 307, 305, 361, 314, 308, 310, 311], dtype=int64)"
      ]
     },
     "execution_count": 26,
     "metadata": {},
     "output_type": "execute_result"
    }
   ],
   "source": [
    "df.OrigLoanTerm.unique()"
   ]
  },
  {
   "cell_type": "code",
   "execution_count": 27,
   "id": "c8b2597a-d8ac-4b79-86c7-ef9b520b62b1",
   "metadata": {},
   "outputs": [
    {
     "data": {
      "text/plain": [
       "array([0, 1], dtype=int64)"
      ]
     },
     "execution_count": 27,
     "metadata": {},
     "output_type": "execute_result"
    }
   ],
   "source": [
    "df.EverDelinquent.unique()"
   ]
  },
  {
   "cell_type": "code",
   "execution_count": 28,
   "id": "915d7f05-34c0-4a38-9276-d81c8c6ace47",
   "metadata": {},
   "outputs": [
    {
     "data": {
      "text/plain": [
       "<Axes: xlabel='EverDelinquent', ylabel='count'>"
      ]
     },
     "execution_count": 28,
     "metadata": {},
     "output_type": "execute_result"
    },
    {
     "data": {
      "image/png": "[encoded data removed]",
      "text/plain": [
       "<Figure size 640x480 with 1 Axes>"
      ]
     },
     "metadata": {},
     "output_type": "display_data"
    }
   ],
   "source": [
    "sns.set_style('whitegrid')\n",
    "sns.countplot(x='EverDelinquent', data=df)"
   ]
  },
  {
   "cell_type": "code",
   "execution_count": 29,
   "id": "13f11e4b-96bb-45f5-9481-3c13294bef73",
   "metadata": {},
   "outputs": [
    {
     "data": {
      "text/plain": [
       "array([  0,   1,  30,  10,   9,   3, 130,  50,  20, 102,   6,  22,   7,\n",
       "        15,  33,  13,  18,   2,  31,  12,  21,  29,   5,  85,   4,  17,\n",
       "        16,  27,  11,  28,  47,  41,  32,  34,  14,  49,  45,  37,  24,\n",
       "        26,   8,  61,  25,  55,  48,  19,  74,  39, 151, 124, 105,  60,\n",
       "        84,  46,  51,  99, 107,  73,  23, 170,  62,  86,  69,  38, 149,\n",
       "        40, 106,  63, 112, 110,  54,  35,  77, 122,  66, 180,  58,  53,\n",
       "       100, 116,  71,  78,  43,  56,  42, 163, 111, 141, 169,  59,  57,\n",
       "        44,  82,  36,  91,  70,  79,  65,  64,  83, 134,  89, 150, 113,\n",
       "       109,  52, 146, 104,  75, 118,  81, 133,  97, 103,  67, 101,  72,\n",
       "       120,  92,  87,  93, 140,  96,  98, 132, 108, 115,  80, 121, 127,\n",
       "       138,  88, 156, 119,  95, 129, 139, 165, 117,  90, 114, 157,  68,\n",
       "        76, 160, 123, 148,  94, 143, 137, 152, 175, 131, 162, 179, 145,\n",
       "       128, 126, 178, 172, 135, 125, 168, 159, 142, 161, 136, 147, 158,\n",
       "       144, 171, 154], dtype=int64)"
      ]
     },
     "execution_count": 29,
     "metadata": {},
     "output_type": "execute_result"
    }
   ],
   "source": [
    "df.MonthsDelinquent.unique()"
   ]
  },
  {
   "cell_type": "code",
   "execution_count": 30,
   "id": "96cca828-b7b2-4ad2-993d-1f111ed461f4",
   "metadata": {},
   "outputs": [
    {
     "data": {
      "text/plain": [
       "array([163, 165,  65,  55, 133,   9,  48,  72, 156,   4,  52,  16,  63,\n",
       "        74,  45,  34,  60,   5,  28, 212,  36, 211,  62,   7, 183,  91,\n",
       "        40, 209, 112,  29,  44,  38,  46,  56,  43,  31,   2,  23, 208,\n",
       "        15,  21, 206,  39,  14,  54,  77,  59,  17, 210,  25, 136,  58,\n",
       "        49, 135,  47,  53,  41,  22, 132,  26,  37, 166,  81,  19,  27,\n",
       "        67,  89,  42,  50,  32, 124,  66,  33,  35,  64,  30, 186,  10,\n",
       "        93,  69, 127,   6,  57,  51, 109,  20,  68, 121, 168, 189,  18,\n",
       "        78, 194, 190, 158,  11,  61,  70,  73, 198,  75,  24, 174, 100,\n",
       "       192,  12, 101,  71, 172,  76, 167, 137, 146,   8, 119, 164,  99,\n",
       "        90, 143, 184, 123, 201, 118,  84, 199, 120,  80, 111,  13, 169,\n",
       "       141,  96, 144, 202,  79, 149, 197,  92, 139, 148, 108, 145, 142,\n",
       "        85, 116, 175, 125, 171, 177,  88, 106, 104, 157,  94,  83, 154,\n",
       "        87,  86, 110, 130, 176, 181, 107, 117, 134, 203, 153, 128,  97,\n",
       "       207,   3, 182, 105, 173, 188, 131,  98, 185, 102, 140,  95, 126,\n",
       "       196, 159, 160,   1, 162, 170, 129, 150, 115, 152, 195, 193, 103,\n",
       "        82, 178, 200, 147, 138, 113, 155, 122, 191, 114, 187, 161, 205,\n",
       "       180, 204, 151, 179], dtype=int64)"
      ]
     },
     "execution_count": 30,
     "metadata": {},
     "output_type": "execute_result"
    }
   ],
   "source": [
    "df.MonthsInRepayment.unique()"
   ]
  },
  {
   "cell_type": "code",
   "execution_count": 31,
   "id": "88205eff-c341-4aed-a022-907fa139fc98",
   "metadata": {},
   "outputs": [
    {
     "data": {
      "text/plain": [
       "[NaN, 'Poor', 'Fair', 'Good', 'Excellent']\n",
       "Categories (4, object): ['Poor' < 'Fair' < 'Good' < 'Excellent']"
      ]
     },
     "execution_count": 31,
     "metadata": {},
     "output_type": "execute_result"
    }
   ],
   "source": [
    "# Create new variable for Credit Range since that is commonly what is looked at in the industry.\n",
    "# New values = Poor (0-650), Fair (650-700), Good (700-750), Excellent (750-900)\n",
    "df['CreditRange'] = pd.cut(df.CS,[550,650,700,750,1e6],4,labels=['Poor','Fair','Good','Excellent'])\n",
    "df.CreditRange.unique()"
   ]
  },
  {
   "cell_type": "code",
   "execution_count": 32,
   "id": "98d87064-9973-4824-bf49-a41f8f2c9db2",
   "metadata": {},
   "outputs": [
    {
     "data": {
      "text/plain": [
       "<Axes: xlabel='CreditRange', ylabel='count'>"
      ]
     },
     "execution_count": 32,
     "metadata": {},
     "output_type": "execute_result"
    },
    {
     "data": {
      "image/png": "[encoded data removed]",
      "text/plain": [
       "<Figure size 640x480 with 1 Axes>"
      ]
     },
     "metadata": {},
     "output_type": "display_data"
    }
   ],
   "source": [
    "sns.set_style('whitegrid')\n",
    "sns.countplot(x='CreditRange', hue='EverDelinquent', data=df)"
   ]
  },
  {
   "cell_type": "code",
   "execution_count": 33,
   "id": "de5e756d-a453-4227-a532-689082128d16",
   "metadata": {},
   "outputs": [
    {
     "data": {
      "text/plain": [
       "(209882, 17)"
      ]
     },
     "execution_count": 33,
     "metadata": {},
     "output_type": "execute_result"
    }
   ],
   "source": [
    "df.shape"
   ]
  },
  {
   "cell_type": "code",
   "execution_count": 34,
   "id": "ad77224d-8d12-42ce-84ee-e5a5b25c329e",
   "metadata": {},
   "outputs": [
    {
     "data": {
      "text/plain": [
       "CS                     0\n",
       "IsFirstTime            0\n",
       "MaturityDate           0\n",
       "MIP                    0\n",
       "Units                  0\n",
       "OCLTV                  0\n",
       "DTI                    0\n",
       "OrigUPB                0\n",
       "LTV                    0\n",
       "OrigInterestRate       0\n",
       "PropertyState          0\n",
       "LoanSeqNum             0\n",
       "OrigLoanTerm           0\n",
       "EverDelinquent         0\n",
       "MonthsDelinquent       0\n",
       "MonthsInRepayment      0\n",
       "CreditRange          506\n",
       "dtype: int64"
      ]
     },
     "execution_count": 34,
     "metadata": {},
     "output_type": "execute_result"
    }
   ],
   "source": [
    "df.isnull().sum()"
   ]
  },
  {
   "cell_type": "code",
   "execution_count": 35,
   "id": "371767ae-4002-471f-88b3-da2f404da31a",
   "metadata": {},
   "outputs": [
    {
     "data": {
      "text/plain": [
       "(209376, 17)"
      ]
     },
     "execution_count": 35,
     "metadata": {},
     "output_type": "execute_result"
    }
   ],
   "source": [
    "df.dropna(inplace=True)\n",
    "df.shape"
   ]
  },
  {
   "cell_type": "code",
   "execution_count": 36,
   "id": "8dc63188-f21f-4afc-ad92-d2827122cced",
   "metadata": {},
   "outputs": [
    {
     "data": {
      "text/plain": [
       "CreditRange\n",
       "Good         71842\n",
       "Excellent    55308\n",
       "Fair         54256\n",
       "Poor         27970\n",
       "Name: count, dtype: int64"
      ]
     },
     "execution_count": 36,
     "metadata": {},
     "output_type": "execute_result"
    }
   ],
   "source": [
    "df['CreditRange'].value_counts()"
   ]
  },
  {
   "cell_type": "code",
   "execution_count": 37,
   "id": "309872cd-83b5-4acf-b3c8-801b5edc0823",
   "metadata": {},
   "outputs": [
    {
     "data": {
      "text/plain": [
       "['High', 'Medium', 'Low']\n",
       "Categories (3, object): ['Low' < 'Medium' < 'High']"
      ]
     },
     "execution_count": 37,
     "metadata": {},
     "output_type": "execute_result"
    }
   ],
   "source": [
    "# Create new variable for LTV Range\n",
    "df['LTV_range'] = pd.cut(df.LTV,[0,25,50,1000],3,labels=['Low','Medium','High'])\n",
    "df.LTV_range.unique()"
   ]
  },
  {
   "cell_type": "code",
   "execution_count": 38,
   "id": "37271f70-e5ee-476a-9c85-940774b62d0d",
   "metadata": {},
   "outputs": [
    {
     "data": {
      "text/plain": [
       "<Axes: xlabel='LTV_range', ylabel='count'>"
      ]
     },
     "execution_count": 38,
     "metadata": {},
     "output_type": "execute_result"
    },
    {
     "data": {
      "image/png": "[encoded data removed]",
      "text/plain": [
       "<Figure size 640x480 with 1 Axes>"
      ]
     },
     "metadata": {},
     "output_type": "display_data"
    }
   ],
   "source": [
    "sns.set_style('whitegrid')\n",
    "sns.countplot(x='LTV_range', hue='EverDelinquent', data=df)"
   ]
  },
  {
   "cell_type": "code",
   "execution_count": 39,
   "id": "5272651b-dacf-4b34-adea-096c0ab595e7",
   "metadata": {},
   "outputs": [],
   "source": [
    "# Create new variable Repay range\n",
    "df['Repay_range'] = pd.cut(df.MonthsInRepayment,[0,48,96,144,192,240],5,\n",
    "                           labels=['Poor','Fair','Good', 'Very Good', 'Excellent'])"
   ]
  },
  {
   "cell_type": "code",
   "execution_count": 40,
   "id": "8c69cce0-ff34-424f-9699-feb60613c959",
   "metadata": {},
   "outputs": [
    {
     "data": {
      "text/plain": [
       "<Axes: xlabel='Repay_range', ylabel='count'>"
      ]
     },
     "execution_count": 40,
     "metadata": {},
     "output_type": "execute_result"
    },
    {
     "data": {
      "image/png": "[encoded data removed]",
      "text/plain": [
       "<Figure size 640x480 with 1 Axes>"
      ]
     },
     "metadata": {},
     "output_type": "display_data"
    }
   ],
   "source": [
    "sns.set_style('whitegrid')\n",
    "sns.countplot(x='Repay_range', hue='EverDelinquent', data=df)"
   ]
  },
  {
   "cell_type": "code",
   "execution_count": 41,
   "id": "59cc85af-a33f-4cc6-9027-f0cbb12e6b23",
   "metadata": {},
   "outputs": [
    {
     "data": {
      "text/plain": [
       "Repay_range\n",
       "Poor         106692\n",
       "Fair          72502\n",
       "Good          13636\n",
       "Very Good      8529\n",
       "Excellent      8017\n",
       "Name: count, dtype: int64"
      ]
     },
     "execution_count": 41,
     "metadata": {},
     "output_type": "execute_result"
    }
   ],
   "source": [
    "df['Repay_range'].value_counts()"
   ]
  },
  {
   "cell_type": "code",
   "execution_count": 42,
   "id": "1d9340c6-50b9-4278-b0d6-104f3482c0d9",
   "metadata": {},
   "outputs": [
    {
     "name": "stdout",
     "output_type": "stream",
     "text": [
      "<class 'pandas.core.frame.DataFrame'>\n",
      "Index: 209376 entries, 2034 to 291450\n",
      "Data columns (total 19 columns):\n",
      " #   Column             Non-Null Count   Dtype   \n",
      "---  ------             --------------   -----   \n",
      " 0   CS                 209376 non-null  int64   \n",
      " 1   IsFirstTime        209376 non-null  int32   \n",
      " 2   MaturityDate       209376 non-null  int64   \n",
      " 3   MIP                209376 non-null  int64   \n",
      " 4   Units              209376 non-null  int64   \n",
      " 5   OCLTV              209376 non-null  int64   \n",
      " 6   DTI                209376 non-null  int64   \n",
      " 7   OrigUPB            209376 non-null  int64   \n",
      " 8   LTV                209376 non-null  int64   \n",
      " 9   OrigInterestRate   209376 non-null  float64 \n",
      " 10  PropertyState      209376 non-null  object  \n",
      " 11  LoanSeqNum         209376 non-null  object  \n",
      " 12  OrigLoanTerm       209376 non-null  int64   \n",
      " 13  EverDelinquent     209376 non-null  int64   \n",
      " 14  MonthsDelinquent   209376 non-null  int64   \n",
      " 15  MonthsInRepayment  209376 non-null  int64   \n",
      " 16  CreditRange        209376 non-null  category\n",
      " 17  LTV_range          209376 non-null  category\n",
      " 18  Repay_range        209376 non-null  category\n",
      "dtypes: category(3), float64(1), int32(1), int64(12), object(2)\n",
      "memory usage: 27.0+ MB\n"
     ]
    },
    {
     "data": {
      "text/plain": [
       "False"
      ]
     },
     "execution_count": 42,
     "metadata": {},
     "output_type": "execute_result"
    }
   ],
   "source": [
    "df.shape\n",
    "df.info()\n",
    "df.isnull().values.any()"
   ]
  },
  {
   "cell_type": "code",
   "execution_count": 44,
   "id": "d133439c-d0da-476d-a6b7-b71da185e65d",
   "metadata": {},
   "outputs": [],
   "source": [
    "df.to_csv('LoanExport(Cleaned).csv', index=False)"
   ]
  },
  {
   "cell_type": "code",
   "execution_count": null,
   "id": "cdbdd19f-d3f4-4bed-984c-35e9d6b304cf",
   "metadata": {},
   "outputs": [],
   "source": []
  }
 ],
 "metadata": {
  "kernelspec": {
   "display_name": "Python 3 (ipykernel)",
   "language": "python",
   "name": "python3"
  },
  "language_info": {
   "codemirror_mode": {
    "name": "ipython",
    "version": 3
   },
   "file_extension": ".py",
   "mimetype": "text/x-python",
   "name": "python",
   "nbconvert_exporter": "python",
   "pygments_lexer": "ipython3",
   "version": "3.12.4"
  }
 },
 "nbformat": 4,
 "nbformat_minor": 5
}
