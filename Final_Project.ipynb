{
 "cells": [
  {
   "cell_type": "code",
   "execution_count": 50,
   "id": "69278284-962a-41c2-80a0-12c9c2c6e610",
   "metadata": {},
   "outputs": [],
   "source": [
    "import pandas as pd\n",
    "import numpy as np"
   ]
  },
  {
   "cell_type": "code",
   "execution_count": 51,
   "id": "d09263dc-49f8-4350-bbc9-a587a9c73250",
   "metadata": {},
   "outputs": [],
   "source": [
    "df = pd.read_csv('LoanExport.csv', low_memory=False)"
   ]
  },
  {
   "cell_type": "code",
   "execution_count": 52,
   "id": "088cffd5-bc91-41f6-abe4-25144b5610f1",
   "metadata": {},
   "outputs": [
    {
     "name": "stdout",
     "output_type": "stream",
     "text": [
      "<class 'pandas.core.frame.DataFrame'>\n",
      "RangeIndex: 291451 entries, 0 to 291450\n",
      "Data columns (total 28 columns):\n",
      " #   Column              Non-Null Count   Dtype  \n",
      "---  ------              --------------   -----  \n",
      " 0   CS                  291451 non-null  int64  \n",
      " 1   FirstPaymentDate    291451 non-null  int64  \n",
      " 2   FirstTimeHomebuyer  291451 non-null  object \n",
      " 3   MaturityDate        291451 non-null  int64  \n",
      " 4   MSA                 291451 non-null  object \n",
      " 5   MIP                 291451 non-null  int64  \n",
      " 6   Units               291451 non-null  int64  \n",
      " 7   Occupancy           291451 non-null  object \n",
      " 8   OCLTV               291451 non-null  int64  \n",
      " 9   DTI                 291451 non-null  int64  \n",
      " 10  OrigUPB             291451 non-null  int64  \n",
      " 11  LTV                 291451 non-null  int64  \n",
      " 12  OrigInterestRate    291451 non-null  float64\n",
      " 13  Channel             291451 non-null  object \n",
      " 14  PPM                 291451 non-null  object \n",
      " 15  ProductType         291451 non-null  object \n",
      " 16  PropertyState       291451 non-null  object \n",
      " 17  PropertyType        291451 non-null  object \n",
      " 18  PostalCode          291451 non-null  object \n",
      " 19  LoanSeqNum          291451 non-null  object \n",
      " 20  LoanPurpose         291451 non-null  object \n",
      " 21  OrigLoanTerm        291451 non-null  int64  \n",
      " 22  NumBorrowers        291451 non-null  object \n",
      " 23  SellerName          266457 non-null  object \n",
      " 24  ServicerName        291451 non-null  object \n",
      " 25  EverDelinquent      291451 non-null  int64  \n",
      " 26  MonthsDelinquent    291451 non-null  int64  \n",
      " 27  MonthsInRepayment   291451 non-null  int64  \n",
      "dtypes: float64(1), int64(13), object(14)\n",
      "memory usage: 62.3+ MB\n"
     ]
    },
    {
     "data": {
      "text/plain": [
       "(291451, 28)"
      ]
     },
     "execution_count": 52,
     "metadata": {},
     "output_type": "execute_result"
    }
   ],
   "source": [
    "col_name =df.columns[0]\n",
    "df=df.rename(columns = {col_name:'CS'})\n",
    "df.info()\n",
    "df.shape"
   ]
  },
  {
   "cell_type": "code",
   "execution_count": 54,
   "id": "733e19a3-18c1-4c75-b733-df9cc4e795d8",
   "metadata": {},
   "outputs": [],
   "source": [
    "for col in ['FirstPaymentDate','MSA',\n",
    "            'Occupancy','Channel','ProductType',\n",
    "            'SellerName','PostalCode','ServicerName',\n",
    "            'PropertyState','PPM','PropertyType','LoanPurpose',\n",
    "            'NumBorrowers']:\n",
    "    if col in df:\n",
    "        del df[col]"
   ]
  },
  {
   "cell_type": "code",
   "execution_count": 55,
   "id": "c78fbcbd-3355-48d7-9405-c207f19e3dd4",
   "metadata": {},
   "outputs": [
    {
     "name": "stdout",
     "output_type": "stream",
     "text": [
      "<class 'pandas.core.frame.DataFrame'>\n",
      "RangeIndex: 291451 entries, 0 to 291450\n",
      "Data columns (total 15 columns):\n",
      " #   Column              Non-Null Count   Dtype  \n",
      "---  ------              --------------   -----  \n",
      " 0   CS                  291451 non-null  int64  \n",
      " 1   FirstTimeHomebuyer  291451 non-null  object \n",
      " 2   MaturityDate        291451 non-null  int64  \n",
      " 3   MIP                 291451 non-null  int64  \n",
      " 4   Units               291451 non-null  int64  \n",
      " 5   OCLTV               291451 non-null  int64  \n",
      " 6   DTI                 291451 non-null  int64  \n",
      " 7   OrigUPB             291451 non-null  int64  \n",
      " 8   LTV                 291451 non-null  int64  \n",
      " 9   OrigInterestRate    291451 non-null  float64\n",
      " 10  LoanSeqNum          291451 non-null  object \n",
      " 11  OrigLoanTerm        291451 non-null  int64  \n",
      " 12  EverDelinquent      291451 non-null  int64  \n",
      " 13  MonthsDelinquent    291451 non-null  int64  \n",
      " 14  MonthsInRepayment   291451 non-null  int64  \n",
      "dtypes: float64(1), int64(12), object(2)\n",
      "memory usage: 33.4+ MB\n"
     ]
    },
    {
     "data": {
      "text/plain": [
       "(291451, 15)"
      ]
     },
     "execution_count": 55,
     "metadata": {},
     "output_type": "execute_result"
    }
   ],
   "source": [
    "df.dropna(inplace=True)\n",
    "df.info()\n",
    "df.shape"
   ]
  },
  {
   "cell_type": "code",
   "execution_count": 56,
   "id": "56271401-a022-4da2-9b36-ca54db8b5700",
   "metadata": {},
   "outputs": [
    {
     "data": {
      "text/plain": [
       "array([  0, 335, 342, 363, 366, 370, 375, 391, 396, 445, 462, 466, 471,\n",
       "       476, 477, 478, 479, 481, 482, 483, 485, 486, 487, 489, 490, 491,\n",
       "       492, 493, 494, 495, 496, 497, 498, 499, 500, 501, 502, 503, 504,\n",
       "       505, 506, 507, 508, 509, 510, 511, 512, 513, 514, 515, 516, 517,\n",
       "       518, 519, 520, 521, 522, 523, 524, 525, 526, 527, 528, 529, 530,\n",
       "       531, 532, 533, 534, 535, 536, 537, 538, 539, 540, 541, 542, 543,\n",
       "       544, 545, 546, 547, 548, 549, 550, 551, 552, 553, 554, 555, 556,\n",
       "       557, 558, 559, 560, 561, 562, 563, 564, 565, 566, 567, 568, 569,\n",
       "       570, 571, 572, 573, 574, 575, 576, 577, 578, 579, 580, 581, 582,\n",
       "       583, 584, 585, 586, 587, 588, 589, 590, 591, 592, 593, 594, 595,\n",
       "       596, 597, 598, 599, 600, 601, 602, 603, 604, 605, 606, 607, 608,\n",
       "       609, 610, 611, 612, 613, 614, 615, 616, 617, 618, 619, 620, 621,\n",
       "       622, 623, 624, 625, 626, 627, 628, 629, 630, 631, 632, 633, 634,\n",
       "       635, 636, 637, 638, 639, 640, 641, 642, 643, 644, 645, 646, 647,\n",
       "       648, 649, 650, 651, 652, 653, 654, 655, 656, 657, 658, 659, 660,\n",
       "       661, 662, 663, 664, 665, 666, 667, 668, 669, 670, 671, 672, 673,\n",
       "       674, 675, 676, 677, 678, 679, 680, 681, 682, 683, 684, 685, 686,\n",
       "       687, 688, 689, 690, 691, 692, 693, 694, 695, 696, 697, 698, 699,\n",
       "       700, 701, 702, 703, 704, 705, 706, 707, 708, 709, 710, 711, 712,\n",
       "       713, 714, 715, 716, 717, 718, 719, 720, 721, 722, 723, 724, 725,\n",
       "       726, 727, 728, 729, 730, 731, 732, 733, 734, 735, 736, 737, 738,\n",
       "       739, 740, 741, 742, 743, 744, 745, 746, 747, 748, 749, 750, 751,\n",
       "       752, 753, 754, 755, 756, 757, 758, 759, 760, 761, 762, 763, 764,\n",
       "       765, 766, 767, 768, 769, 770, 771, 772, 773, 774, 775, 776, 777,\n",
       "       778, 779, 780, 781, 782, 783, 784, 785, 786, 787, 788, 789, 790,\n",
       "       791, 792, 793, 794, 795, 796, 797, 798, 799, 800, 801, 802, 803,\n",
       "       804, 805, 806, 807, 808, 809, 810, 811, 812, 813, 814, 815, 816,\n",
       "       817, 818, 819, 820, 822, 823, 825, 826, 827, 828, 829, 831, 835,\n",
       "       837, 838, 839, 840, 845, 849], dtype=int64)"
      ]
     },
     "execution_count": 56,
     "metadata": {},
     "output_type": "execute_result"
    }
   ],
   "source": [
    "df.CS.unique()"
   ]
  },
  {
   "cell_type": "code",
   "execution_count": 57,
   "id": "f2665eb5-11c0-461f-9825-ed8f05783a42",
   "metadata": {},
   "outputs": [
    {
     "data": {
      "text/plain": [
       "array([850, 335, 342, 363, 366, 370, 375, 391, 396, 445, 462, 466, 471,\n",
       "       476, 477, 478, 479, 481, 482, 483, 485, 486, 487, 489, 490, 491,\n",
       "       492, 493, 494, 495, 496, 497, 498, 499, 500, 501, 502, 503, 504,\n",
       "       505, 506, 507, 508, 509, 510, 511, 512, 513, 514, 515, 516, 517,\n",
       "       518, 519, 520, 521, 522, 523, 524, 525, 526, 527, 528, 529, 530,\n",
       "       531, 532, 533, 534, 535, 536, 537, 538, 539, 540, 541, 542, 543,\n",
       "       544, 545, 546, 547, 548, 549, 550, 551, 552, 553, 554, 555, 556,\n",
       "       557, 558, 559, 560, 561, 562, 563, 564, 565, 566, 567, 568, 569,\n",
       "       570, 571, 572, 573, 574, 575, 576, 577, 578, 579, 580, 581, 582,\n",
       "       583, 584, 585, 586, 587, 588, 589, 590, 591, 592, 593, 594, 595,\n",
       "       596, 597, 598, 599, 600, 601, 602, 603, 604, 605, 606, 607, 608,\n",
       "       609, 610, 611, 612, 613, 614, 615, 616, 617, 618, 619, 620, 621,\n",
       "       622, 623, 624, 625, 626, 627, 628, 629, 630, 631, 632, 633, 634,\n",
       "       635, 636, 637, 638, 639, 640, 641, 642, 643, 644, 645, 646, 647,\n",
       "       648, 649, 650, 651, 652, 653, 654, 655, 656, 657, 658, 659, 660,\n",
       "       661, 662, 663, 664, 665, 666, 667, 668, 669, 670, 671, 672, 673,\n",
       "       674, 675, 676, 677, 678, 679, 680, 681, 682, 683, 684, 685, 686,\n",
       "       687, 688, 689, 690, 691, 692, 693, 694, 695, 696, 697, 698, 699,\n",
       "       700, 701, 702, 703, 704, 705, 706, 707, 708, 709, 710, 711, 712,\n",
       "       713, 714, 715, 716, 717, 718, 719, 720, 721, 722, 723, 724, 725,\n",
       "       726, 727, 728, 729, 730, 731, 732, 733, 734, 735, 736, 737, 738,\n",
       "       739, 740, 741, 742, 743, 744, 745, 746, 747, 748, 749, 750, 751,\n",
       "       752, 753, 754, 755, 756, 757, 758, 759, 760, 761, 762, 763, 764,\n",
       "       765, 766, 767, 768, 769, 770, 771, 772, 773, 774, 775, 776, 777,\n",
       "       778, 779, 780, 781, 782, 783, 784, 785, 786, 787, 788, 789, 790,\n",
       "       791, 792, 793, 794, 795, 796, 797, 798, 799, 800, 801, 802, 803,\n",
       "       804, 805, 806, 807, 808, 809, 810, 811, 812, 813, 814, 815, 816,\n",
       "       817, 818, 819, 820, 822, 823, 825, 826, 827, 828, 829, 831, 835,\n",
       "       837, 838, 839, 840, 845, 849], dtype=int64)"
      ]
     },
     "execution_count": 57,
     "metadata": {},
     "output_type": "execute_result"
    }
   ],
   "source": [
    "df['CS'] = np.where(df['CS'] == 0, 850, df['CS'])\n",
    "df.CS.unique()"
   ]
  },
  {
   "cell_type": "code",
   "execution_count": 58,
   "id": "bb0b97f3-a5fb-48b5-b11c-fabbf3ad387d",
   "metadata": {},
   "outputs": [
    {
     "data": {
      "text/plain": [
       "array(['N', 'X', 'Y'], dtype=object)"
      ]
     },
     "execution_count": 58,
     "metadata": {},
     "output_type": "execute_result"
    }
   ],
   "source": [
    "df.FirstTimeHomebuyer.unique()"
   ]
  },
  {
   "cell_type": "code",
   "execution_count": 59,
   "id": "2a616d68-c8f8-4633-820f-423963cac99b",
   "metadata": {},
   "outputs": [
    {
     "data": {
      "text/plain": [
       "array(['N', 'Y'], dtype=object)"
      ]
     },
     "execution_count": 59,
     "metadata": {},
     "output_type": "execute_result"
    }
   ],
   "source": [
    "df = df[df.FirstTimeHomebuyer != 'X']\n",
    "df.FirstTimeHomebuyer.unique()"
   ]
  },
  {
   "cell_type": "code",
   "execution_count": 60,
   "id": "b1c7a967-37e9-4cac-aa38-c57f4ad7d65d",
   "metadata": {},
   "outputs": [
    {
     "data": {
      "text/plain": [
       "FirstTimeHomebuyer\n",
       "N    184154\n",
       "Y     29282\n",
       "Name: count, dtype: int64"
      ]
     },
     "execution_count": 60,
     "metadata": {},
     "output_type": "execute_result"
    }
   ],
   "source": [
    "df['FirstTimeHomebuyer'].value_counts()"
   ]
  },
  {
   "cell_type": "code",
   "execution_count": 61,
   "id": "0b51218c-18b2-482f-9bbd-ab448914e477",
   "metadata": {},
   "outputs": [
    {
     "data": {
      "text/plain": [
       "IsFirstTime\n",
       "0    184154\n",
       "1     29282\n",
       "Name: count, dtype: int64"
      ]
     },
     "execution_count": 61,
     "metadata": {},
     "output_type": "execute_result"
    }
   ],
   "source": [
    "df = df.rename(columns = {'FirstTimeHomebuyer':'IsFirstTime'})\n",
    "df['IsFirstTime'] = np.where(df['IsFirstTime'] == 'Y', 1, 0)\n",
    "df['IsFirstTime'].value_counts()"
   ]
  },
  {
   "cell_type": "code",
   "execution_count": 62,
   "id": "87be6f43-a030-439d-852b-8b6845d26532",
   "metadata": {},
   "outputs": [
    {
     "data": {
      "text/plain": [
       "array([202901, 202710, 202902, 202409, 202702, 202903, 202602, 202607,\n",
       "       202904, 202905, 202906, 202907, 202908, 202909, 202910, 202911,\n",
       "       202912, 203003, 203004, 203008, 202803, 203006, 203002, 202509,\n",
       "       202611, 202703, 202706, 202502, 202612, 202705, 203001, 202704,\n",
       "       202610, 202701, 202601, 202712, 202609, 202709, 202806, 202802,\n",
       "       202605, 202811, 202608, 203101, 202805, 203012, 202809, 202804,\n",
       "       202504, 203005, 202405, 202810, 203308, 202808, 202406, 202708,\n",
       "       203007, 202812, 202606, 202807, 203009, 202506, 202707, 202711,\n",
       "       203010, 202603, 202503, 203211, 203111, 202512, 202402, 202511,\n",
       "       202510, 202604, 202410, 202508, 202801, 203312, 202507, 202408,\n",
       "       203104, 204111, 204302, 202501, 203212, 203011, 202411, 202403,\n",
       "       203304, 202404, 203106, 203210, 203202, 202505], dtype=int64)"
      ]
     },
     "execution_count": 62,
     "metadata": {},
     "output_type": "execute_result"
    }
   ],
   "source": [
    "df.MaturityDate.unique()"
   ]
  },
  {
   "cell_type": "code",
   "execution_count": 63,
   "id": "a6500647-9a65-476a-a3d8-8a0dde55e37b",
   "metadata": {},
   "outputs": [
    {
     "data": {
      "text/plain": [
       "array([25,  0, 30, 12, 35, 29, 17, 18, 20, 22,  6, 14, 33, 16, 52, 36, 28,\n",
       "       11, 45, 27, 10, 50, 47,  7, 24, 15, 37, 32, 26,  1, 13, 21, 23, 55,\n",
       "        4], dtype=int64)"
      ]
     },
     "execution_count": 63,
     "metadata": {},
     "output_type": "execute_result"
    }
   ],
   "source": [
    "df.MIP.unique()"
   ]
  },
  {
   "cell_type": "code",
   "execution_count": 64,
   "id": "e5b13967-c0f9-4221-aa84-11ee7fa14e27",
   "metadata": {},
   "outputs": [
    {
     "data": {
      "text/plain": [
       "array([1, 2, 3, 4, 0], dtype=int64)"
      ]
     },
     "execution_count": 64,
     "metadata": {},
     "output_type": "execute_result"
    }
   ],
   "source": [
    "df.Units.unique()"
   ]
  },
  {
   "cell_type": "code",
   "execution_count": 65,
   "id": "22e64283-7d9b-4979-a9c6-c8b9619b29ae",
   "metadata": {},
   "outputs": [
    {
     "data": {
      "text/plain": [
       "Units\n",
       "1    209501\n",
       "2      3242\n",
       "3       346\n",
       "4       345\n",
       "0         2\n",
       "Name: count, dtype: int64"
      ]
     },
     "execution_count": 65,
     "metadata": {},
     "output_type": "execute_result"
    }
   ],
   "source": [
    "df['Units'].value_counts()"
   ]
  },
  {
   "cell_type": "code",
   "execution_count": 66,
   "id": "5832e20a-68be-434d-8ab1-a1d6f4175b1f",
   "metadata": {},
   "outputs": [],
   "source": [
    "df = df[df.Units != 0] #As it is a null value, so we have to remove those rows."
   ]
  },
  {
   "cell_type": "code",
   "execution_count": 67,
   "id": "721faf09-778b-4909-9bfe-a532e6c87ecd",
   "metadata": {},
   "outputs": [
    {
     "data": {
      "text/plain": [
       "array([ 89,  73,  75,  76,  78,  90,  95,  80,  77,  85,  93,  70,  74,\n",
       "        79,  72,  62,  44,  32,  64,  91,  53,  69,  60,  54,  52,  84,\n",
       "        68,  36,  55,  96,  97,  46,  58,  63,  83,  87,  94,  48,  50,\n",
       "        51,  67,  86,  81,  66,  71,  82,  88,  26,  59,  57,  61,  30,\n",
       "        24,  34,  37,  42,  65,  31, 100,   7,  38,  39,  16,  41,  33,\n",
       "        92,  40,  35,  56,  22,  28,  43,  47,  49,  98,  29,  45,  25,\n",
       "       103,  10,  18,  23,  20,  15, 102, 101,  14,  21,  27, 105,  19,\n",
       "         8,   0, 104,  17, 110,  99,  12,   6,  13,   9,  11], dtype=int64)"
      ]
     },
     "execution_count": 67,
     "metadata": {},
     "output_type": "execute_result"
    }
   ],
   "source": [
    "df.OCLTV.unique()"
   ]
  },
  {
   "cell_type": "code",
   "execution_count": 68,
   "id": "db7e1ae3-5a50-429e-865c-6dd886e4fb6c",
   "metadata": {},
   "outputs": [
    {
     "data": {
      "text/plain": [
       "array([27, 17, 16, 14, 18, 40, 21, 38, 19, 23, 45, 28, 29, 15, 43, 25, 24,\n",
       "       26, 20, 35, 46, 39, 33, 48, 30, 31, 22, 56, 32, 12,  6, 37, 36, 42,\n",
       "       34, 11, 41,  8, 44, 55,  0, 51, 10,  7, 47,  9, 13, 65, 54,  2, 53,\n",
       "       57,  5,  3,  4, 50, 59, 49, 52, 64, 60, 58,  1, 61, 62, 63],\n",
       "      dtype=int64)"
      ]
     },
     "execution_count": 68,
     "metadata": {},
     "output_type": "execute_result"
    }
   ],
   "source": [
    "df.DTI.unique()"
   ]
  },
  {
   "cell_type": "code",
   "execution_count": 69,
   "id": "981a751e-ecc2-4fd3-9b32-40a34e0694fb",
   "metadata": {},
   "outputs": [],
   "source": [
    "df = df[df.DTI != 0]"
   ]
  },
  {
   "cell_type": "code",
   "execution_count": 70,
   "id": "f74063b3-8613-4b15-905b-906b16f03574",
   "metadata": {},
   "outputs": [
    {
     "data": {
      "text/plain": [
       "array([117000, 109000,  88000, 160000, 207000, 111000,  55000,  35000,\n",
       "       126000, 200000,  70000,  93000,  79000,  54000,  80000, 231000,\n",
       "       145000, 187000, 148000,  90000,  65000,  86000, 122000, 157000,\n",
       "        94000,  63000,  50000, 100000, 191000, 204000, 222000, 189000,\n",
       "        57000, 202000, 137000,  56000, 140000,  18000,  76000,  77000,\n",
       "       151000, 118000, 182000,  98000,  89000, 172000,  82000, 240000,\n",
       "       102000, 173000,  51000, 169000, 101000, 152000, 141000,  47000,\n",
       "       128000, 133000, 135000, 115000, 144000, 146000, 212000, 176000,\n",
       "       214000, 190000, 227000,  99000,  83000,  49000,  29000, 124000,\n",
       "       132000, 150000, 300000,  95000, 149000, 162000, 226000, 110000,\n",
       "       112000, 219000, 236000,  67000, 195000, 164000, 198000,  60000,\n",
       "       194000, 147000, 104000,  72000, 183000, 154000, 179000,  66000,\n",
       "       210000,  46000,  96000, 225000, 156000, 235000, 113000, 139000,\n",
       "        74000,  68000,  69000, 238000, 142000,  73000,  48000,  97000,\n",
       "        44000,  36000,  42000, 193000, 119000, 131000,  26000, 114000,\n",
       "       143000,  81000,  52000, 209000, 248000, 185000,  61000,  30000,\n",
       "        45000,  41000,  38000,  92000,  62000, 170000,  87000,  75000,\n",
       "       174000, 155000, 103000,  59000, 230000, 105000, 177000, 130000,\n",
       "        84000, 138000, 116000,  23000, 125000,  34000,  33000, 171000,\n",
       "       213000, 127000, 205000, 120000, 123000, 203000, 291000, 216000,\n",
       "       158000, 167000, 153000,  20000, 220000, 175000, 211000, 163000,\n",
       "        43000,  39000, 136000,  53000,  71000,  28000,  31000, 234000,\n",
       "        32000, 188000, 239000, 107000,  58000,  37000, 181000, 215000,\n",
       "       217000, 166000, 228000,  40000, 134000, 106000, 307000, 108000,\n",
       "       197000,  64000, 180000,  91000, 192000,  85000, 129000,  78000,\n",
       "       184000, 206000, 165000, 232000, 208000, 201000,  13000, 121000,\n",
       "       161000,  27000, 196000, 221000, 304000, 278000,  24000, 284000,\n",
       "       178000, 261000,  25000, 168000, 223000, 229000, 306000, 159000,\n",
       "       224000, 250000, 199000, 254000, 247000, 244000, 329000, 272000,\n",
       "       233000, 270000, 252000, 264000, 348000, 276000, 266000, 186000,\n",
       "       218000, 237000, 274000, 280000, 338000, 256000, 267000, 258000,\n",
       "       257000, 265000, 282000, 251000,  17000, 262000, 285000,  16000,\n",
       "        14000, 260000, 287000, 319000,  15000, 390000,  22000, 269000,\n",
       "       249000, 275000, 241000, 359000, 259000, 299000, 297000, 253000,\n",
       "       242000, 273000, 277000, 286000, 302000, 243000, 271000, 360000,\n",
       "       290000, 255000,  10000, 303000, 268000, 263000,  21000, 350000,\n",
       "       293000, 292000, 288000, 279000, 296000, 352000, 325000, 326000,\n",
       "       328000, 305000, 294000, 345000, 331000, 320000, 283000, 246000,\n",
       "        19000, 289000, 400000, 308000, 281000, 310000, 312000, 368000,\n",
       "       428000, 330000, 336000, 245000, 309000, 311000, 316000, 423000,\n",
       "       298000, 358000, 340000, 327000, 354000, 399000, 339000, 461000,\n",
       "       364000, 295000, 497000, 315000, 341000,  12000, 442000, 324000,\n",
       "       344000, 431000, 301000, 413000, 313000, 323000, 322000, 346000,\n",
       "       389000, 398000,  11000, 314000, 370000, 440000, 332000, 317000,\n",
       "       402000, 371000, 333000, 361000], dtype=int64)"
      ]
     },
     "execution_count": 70,
     "metadata": {},
     "output_type": "execute_result"
    }
   ],
   "source": [
    "df.OrigUPB.unique()"
   ]
  },
  {
   "cell_type": "code",
   "execution_count": 71,
   "id": "5052972e-5c6c-4878-a15d-0ffe122064a2",
   "metadata": {},
   "outputs": [
    {
     "data": {
      "text/plain": [
       "array([ 89,  73,  75,  76,  78,  90,  95,  80,  77,  85,  93,  70,  74,\n",
       "        79,  72,  62,  44,  32,  64,  91,  53,  69,  60,  54,  52,  84,\n",
       "        68,  36,  55,  96,  97,  46,  58,  63,  83,  87,  94,  48,  50,\n",
       "        51,  67,  86,  81,  66,  71,  82,  88,  26,  59,  57,  61,  30,\n",
       "        24,  34,  37,  42,  65,  31,   7,  38,  39,  16,  41,  33,  92,\n",
       "        40,  22,  28,  43,  47, 100,  49,  56,  98,  35,  45,  25,  10,\n",
       "        18,  23,  20,  15,  29, 103,  14,  21,  27,  19,   8,  17,  12,\n",
       "         6,  13,   9,  11,   0], dtype=int64)"
      ]
     },
     "execution_count": 71,
     "metadata": {},
     "output_type": "execute_result"
    }
   ],
   "source": [
    "df.LTV.unique()"
   ]
  },
  {
   "cell_type": "code",
   "execution_count": 72,
   "id": "67a666d3-b0c4-4ac1-9b9b-309b44d46e28",
   "metadata": {},
   "outputs": [],
   "source": [
    "df = df[df.LTV != 0]"
   ]
  },
  {
   "cell_type": "code",
   "execution_count": 73,
   "id": "a613c3ce-17f2-4d25-bf04-d5ac1739cafd",
   "metadata": {},
   "outputs": [
    {
     "data": {
      "text/plain": [
       "array([ 6.75 ,  6.5  ,  6.875,  7.125,  7.   ,  7.25 ,  6.625,  7.75 ,\n",
       "        7.2  ,  7.5  ,  7.625,  7.875,  6.25 ,  8.125,  7.15 ,  7.375,\n",
       "        6.375,  8.75 ,  7.1  ,  7.05 ,  6.95 ,  8.   ,  8.625,  8.375,\n",
       "        8.5  ,  6.125,  6.   ,  8.25 ,  8.99 ,  5.625,  9.   ,  5.875,\n",
       "        9.125,  6.99 ,  8.365,  8.875,  6.975,  7.3  ,  7.313,  9.625,\n",
       "        9.25 ,  5.75 ,  7.85 ,  8.695,  7.775,  7.29 ,  7.405,  9.5  ,\n",
       "        9.375,  9.75 ,  7.13 ,  5.99 ,  6.999,  7.055,  7.09 ,  6.785,\n",
       "        7.08 ,  7.025,  7.7  ,  7.58 , 10.5  ,  7.55 ,  7.445,  9.875,\n",
       "        6.85 ,  6.925,  6.9  ,  8.37 ,  5.375,  7.095,  7.19 ,  7.456,\n",
       "        9.675,  7.475,  7.22 ,  7.17 ,  8.7  ,  7.301,  8.9  , 10.   ,\n",
       "        6.62 ,  7.325, 10.375,  7.8  ,  7.4  , 10.85 ,  7.185,  7.245,\n",
       "        5.25 , 11.5  ,  6.94 ,  6.87 ,  7.65 ,  7.312,  7.28 ,  7.39 ,\n",
       "        7.07 ,  5.5  ,  7.43 ,  7.48 ,  6.88 ,  8.45 ,  6.895,  6.3  ,\n",
       "        7.49 ,  6.8  ,  6.63 ,  8.05 ,  7.275,  7.175,  7.225,  7.075,\n",
       "        4.875,  8.8  ,  7.33 ,  9.95 ,  7.35 ,  7.23 ,  7.91 ,  7.575,\n",
       "        7.425,  7.03 ,  7.31 , 10.625,  7.14 ,  7.12 ,  7.24 ,  7.013,\n",
       "        6.4  ,  6.49 ,  6.55 ,  6.97 ,  7.355,  7.878,  8.27 ,  7.38 ,\n",
       "        6.7  ,  7.45 ,  7.105,  9.35 , 10.75 ,  7.365,  6.871,  5.96 ,\n",
       "        8.3  ,  7.36 ,  9.975,  7.32 , 11.125,  6.1  ,  6.883,  7.95 ,\n",
       "        6.65 ,  7.6  ,  7.54 , 11.1  ,  6.955,  9.99 ,  7.023,  5.89 ,\n",
       "        6.35 ,  8.32 ,  8.315,  7.62 ,  7.188,  6.6  ,  7.26 ,  8.14 ,\n",
       "        7.072,  7.106,  7.066,  6.225,  7.016,  7.255,  6.715,  6.545,\n",
       "        7.056,  6.45 ,  6.69 ,  8.1  ,  8.485,  6.825,  7.06 ,  6.2  ,\n",
       "        7.085,  7.495,  7.158,  6.33 ,  8.13 ,  8.18 ,  7.66 ,  6.602,\n",
       "        7.293,  6.995,  7.371,  6.98 ,  8.06 ,  6.92 ,  6.685,  6.51 ,\n",
       "        6.813,  7.165,  7.04 ,  8.255,  7.825,  7.624,  7.195,  7.265,\n",
       "        6.935,  6.965,  4.   ,  6.948,  7.64 ,  7.02 ,  6.74 ,  6.96 ,\n",
       "        6.957,  7.063,  7.415,  7.21 ,  6.15 ,  6.79 ,  7.399,  7.059,\n",
       "        7.305,  7.395,  7.93 ,  7.99 ,  5.125,  7.154,  6.09 ,  5.8  ])"
      ]
     },
     "execution_count": 73,
     "metadata": {},
     "output_type": "execute_result"
    }
   ],
   "source": [
    "df.OrigInterestRate.unique()"
   ]
  },
  {
   "cell_type": "code",
   "execution_count": 74,
   "id": "54250b19-16e3-4616-9e64-dc45d6edb836",
   "metadata": {},
   "outputs": [
    {
     "data": {
      "text/plain": [
       "array([360, 345, 306, 335, 322, 327, 358, 355, 356, 354, 346, 344, 348,\n",
       "       313, 316, 353, 319, 332, 336, 338, 312, 328, 351, 333, 359, 331,\n",
       "       337, 334, 357, 330, 350, 341, 343, 325, 326, 324, 347, 352, 329,\n",
       "       339, 317, 349, 342, 304, 340, 301, 309, 315, 323, 321, 320, 302,\n",
       "       318, 303, 307, 305, 361, 314, 308, 310, 311], dtype=int64)"
      ]
     },
     "execution_count": 74,
     "metadata": {},
     "output_type": "execute_result"
    }
   ],
   "source": [
    "df.OrigLoanTerm.unique()"
   ]
  },
  {
   "cell_type": "code",
   "execution_count": 75,
   "id": "c8b2597a-d8ac-4b79-86c7-ef9b520b62b1",
   "metadata": {},
   "outputs": [
    {
     "data": {
      "text/plain": [
       "array([0, 1], dtype=int64)"
      ]
     },
     "execution_count": 75,
     "metadata": {},
     "output_type": "execute_result"
    }
   ],
   "source": [
    "df.EverDelinquent.unique()"
   ]
  },
  {
   "cell_type": "code",
   "execution_count": 76,
   "id": "13f11e4b-96bb-45f5-9481-3c13294bef73",
   "metadata": {},
   "outputs": [
    {
     "data": {
      "text/plain": [
       "array([  0, 104,   5,  23,  32,   1,   2,   4,  20,  10,   3,  34,  35,\n",
       "         6,  11, 153,   7,   8,  18,  78,  24,  14,  17,  25,   9,  66,\n",
       "        36,  19,  15,  27,  28,  49,  13,  50,  26,  29,  12,  16,  21,\n",
       "        22, 118,  30,  69, 158,  62,  43,  38,  64,  71,  92,  41,  91,\n",
       "        83, 130, 102,  33,  31,  85,  47,  45,  37,  61,  55,  48,  74,\n",
       "        39, 151, 124, 105,  60,  84,  46,  51,  99, 107,  73, 170,  86,\n",
       "       149,  40, 106,  63, 112, 110,  54,  77, 122, 180,  58,  53, 100,\n",
       "       116,  56,  42, 163, 111, 141, 169,  59,  57,  44,  82,  70,  79,\n",
       "        65, 134,  89, 150, 113, 109,  52, 146,  75,  81, 133,  97, 103,\n",
       "        67, 101,  72, 120,  87,  93, 140,  96,  98, 132, 108, 115,  80,\n",
       "       121, 127, 138,  88, 156, 119,  95, 129, 139, 165, 117,  90, 114,\n",
       "       157,  68,  76, 160, 123, 148,  94, 143, 137, 152, 175, 131, 162,\n",
       "       179, 145, 128, 126, 178, 172, 135, 125, 168, 159, 142, 161, 136,\n",
       "       147, 144, 171, 154], dtype=int64)"
      ]
     },
     "execution_count": 76,
     "metadata": {},
     "output_type": "execute_result"
    }
   ],
   "source": [
    "df.MonthsDelinquent.unique()"
   ]
  },
  {
   "cell_type": "code",
   "execution_count": 77,
   "id": "96cca828-b7b2-4ad2-993d-1f111ed461f4",
   "metadata": {},
   "outputs": [
    {
     "data": {
      "text/plain": [
       "array([ 52, 144,  67,  35,  54,  42,  44,  64, 212,  37,  47,  53,  55,\n",
       "        66,  26,  38,  36,  39,  40,  11, 176,  46, 197, 210,  56, 118,\n",
       "        63,  24,  28,  91,  50,  22, 211, 199,  23,  30, 125,  41,  76,\n",
       "        49,  18,  19,  43,  60,  83,  95,  29,  45,  13,   6,  48,  62,\n",
       "        14,  15, 111,  51,  17,  75,  58,  27,  10,  31, 133, 165, 156,\n",
       "        33,  68, 205,  57, 159,  81, 194, 114,  59, 100, 134, 128,  71,\n",
       "         7,  65,  74,  79, 174, 195, 151,  34, 149,  21,  12, 137, 130,\n",
       "        69,  70, 173, 166,  61, 160,  20, 178,   3,  72, 147,   2,  32,\n",
       "       164, 139, 148,  92, 209, 102,  87,  94,  73, 123,  16, 142, 108,\n",
       "         1, 172, 109, 141, 175, 103, 168,   5, 155, 177, 158, 138,  25,\n",
       "       110,  98,  84, 136,   8, 121, 179,   4, 154, 161, 157, 150,  80,\n",
       "       170,  77,   9, 183,  93, 143, 162, 126,  89, 208, 184,  82, 145,\n",
       "       117, 101, 122, 107, 193,  85,  78, 169, 104, 131, 140, 163, 112,\n",
       "       206, 135, 132, 124, 186, 127, 189, 190, 198, 192, 167, 146, 119,\n",
       "        99,  90, 201, 120,  96, 202, 116, 171,  88, 106,  86, 181, 203,\n",
       "       153,  97, 207, 182, 105, 188, 185, 196, 129, 115, 152, 200, 113,\n",
       "       191, 187, 180, 204], dtype=int64)"
      ]
     },
     "execution_count": 77,
     "metadata": {},
     "output_type": "execute_result"
    }
   ],
   "source": [
    "df.MonthsInRepayment.unique()"
   ]
  },
  {
   "cell_type": "code",
   "execution_count": 78,
   "id": "88205eff-c341-4aed-a022-907fa139fc98",
   "metadata": {},
   "outputs": [
    {
     "data": {
      "text/plain": [
       "['Excellent', NaN, 'Poor', 'Fair', 'Good']\n",
       "Categories (4, object): ['Poor' < 'Fair' < 'Good' < 'Excellent']"
      ]
     },
     "execution_count": 78,
     "metadata": {},
     "output_type": "execute_result"
    }
   ],
   "source": [
    "# Create new variable for Credit Range since that is commonly what is looked at in the industry.\n",
    "# New values = Poor (0-650), Fair (650-700), Good (700-750), Excellent (750-900)\n",
    "df['CreditRange'] = pd.cut(df.CS,[550,650,700,750,1e6],4,labels=['Poor','Fair','Good','Excellent'])\n",
    "df.CreditRange.unique()"
   ]
  },
  {
   "cell_type": "code",
   "execution_count": 79,
   "id": "de5e756d-a453-4227-a532-689082128d16",
   "metadata": {},
   "outputs": [
    {
     "data": {
      "text/plain": [
       "(210862, 16)"
      ]
     },
     "execution_count": 79,
     "metadata": {},
     "output_type": "execute_result"
    }
   ],
   "source": [
    "df.shape"
   ]
  },
  {
   "cell_type": "code",
   "execution_count": 80,
   "id": "ad77224d-8d12-42ce-84ee-e5a5b25c329e",
   "metadata": {},
   "outputs": [
    {
     "data": {
      "text/plain": [
       "CS                     0\n",
       "IsFirstTime            0\n",
       "MaturityDate           0\n",
       "MIP                    0\n",
       "Units                  0\n",
       "OCLTV                  0\n",
       "DTI                    0\n",
       "OrigUPB                0\n",
       "LTV                    0\n",
       "OrigInterestRate       0\n",
       "LoanSeqNum             0\n",
       "OrigLoanTerm           0\n",
       "EverDelinquent         0\n",
       "MonthsDelinquent       0\n",
       "MonthsInRepayment      0\n",
       "CreditRange          506\n",
       "dtype: int64"
      ]
     },
     "execution_count": 80,
     "metadata": {},
     "output_type": "execute_result"
    }
   ],
   "source": [
    "df.isnull().sum()"
   ]
  },
  {
   "cell_type": "code",
   "execution_count": 82,
   "id": "371767ae-4002-471f-88b3-da2f404da31a",
   "metadata": {},
   "outputs": [
    {
     "data": {
      "text/plain": [
       "(210356, 16)"
      ]
     },
     "execution_count": 82,
     "metadata": {},
     "output_type": "execute_result"
    }
   ],
   "source": [
    "df.dropna(inplace=True)\n",
    "df.shape"
   ]
  },
  {
   "cell_type": "code",
   "execution_count": 83,
   "id": "8dc63188-f21f-4afc-ad92-d2827122cced",
   "metadata": {},
   "outputs": [
    {
     "data": {
      "text/plain": [
       "CreditRange\n",
       "Good         71842\n",
       "Excellent    56288\n",
       "Fair         54256\n",
       "Poor         27970\n",
       "Name: count, dtype: int64"
      ]
     },
     "execution_count": 83,
     "metadata": {},
     "output_type": "execute_result"
    }
   ],
   "source": [
    "df['CreditRange'].value_counts()"
   ]
  },
  {
   "cell_type": "code",
   "execution_count": 84,
   "id": "309872cd-83b5-4acf-b3c8-801b5edc0823",
   "metadata": {},
   "outputs": [
    {
     "data": {
      "text/plain": [
       "['High', 'Medium', 'Low']\n",
       "Categories (3, object): ['Low' < 'Medium' < 'High']"
      ]
     },
     "execution_count": 84,
     "metadata": {},
     "output_type": "execute_result"
    }
   ],
   "source": [
    "# Create new variable for LTV Range\n",
    "df['LTV_range'] = pd.cut(df.LTV,[0,25,50,1000],3,labels=['Low','Medium','High'])\n",
    "df.LTV_range.unique()"
   ]
  },
  {
   "cell_type": "code",
   "execution_count": 88,
   "id": "5272651b-dacf-4b34-adea-096c0ab595e7",
   "metadata": {},
   "outputs": [],
   "source": [
    "# Create new variable Repay range\n",
    "df['Repay_range'] = pd.cut(df.MonthsInRepayment,[0,48,96,144,192,240],5,\n",
    "                           labels=['Poor','Fair','Good', 'Very Good', 'Excellent'])"
   ]
  },
  {
   "cell_type": "code",
   "execution_count": 95,
   "id": "59cc85af-a33f-4cc6-9027-f0cbb12e6b23",
   "metadata": {},
   "outputs": [
    {
     "data": {
      "text/plain": [
       "Repay_range\n",
       "Poor         107159\n",
       "Fair          72838\n",
       "Good          13694\n",
       "Very Good      8581\n",
       "Excellent      8084\n",
       "Name: count, dtype: int64"
      ]
     },
     "execution_count": 95,
     "metadata": {},
     "output_type": "execute_result"
    }
   ],
   "source": [
    "df['Repay_range'].value_counts()"
   ]
  },
  {
   "cell_type": "code",
   "execution_count": 97,
   "id": "1d9340c6-50b9-4278-b0d6-104f3482c0d9",
   "metadata": {},
   "outputs": [
    {
     "name": "stdout",
     "output_type": "stream",
     "text": [
      "<class 'pandas.core.frame.DataFrame'>\n",
      "Index: 210356 entries, 0 to 291450\n",
      "Data columns (total 18 columns):\n",
      " #   Column             Non-Null Count   Dtype   \n",
      "---  ------             --------------   -----   \n",
      " 0   CS                 210356 non-null  int64   \n",
      " 1   IsFirstTime        210356 non-null  int32   \n",
      " 2   MaturityDate       210356 non-null  int64   \n",
      " 3   MIP                210356 non-null  int64   \n",
      " 4   Units              210356 non-null  int64   \n",
      " 5   OCLTV              210356 non-null  int64   \n",
      " 6   DTI                210356 non-null  int64   \n",
      " 7   OrigUPB            210356 non-null  int64   \n",
      " 8   LTV                210356 non-null  int64   \n",
      " 9   OrigInterestRate   210356 non-null  float64 \n",
      " 10  LoanSeqNum         210356 non-null  object  \n",
      " 11  OrigLoanTerm       210356 non-null  int64   \n",
      " 12  EverDelinquent     210356 non-null  int64   \n",
      " 13  MonthsDelinquent   210356 non-null  int64   \n",
      " 14  MonthsInRepayment  210356 non-null  int64   \n",
      " 15  CreditRange        210356 non-null  category\n",
      " 16  LTV_range          210356 non-null  category\n",
      " 17  Repay_range        210356 non-null  category\n",
      "dtypes: category(3), float64(1), int32(1), int64(12), object(1)\n",
      "memory usage: 25.5+ MB\n"
     ]
    },
    {
     "data": {
      "text/plain": [
       "False"
      ]
     },
     "execution_count": 97,
     "metadata": {},
     "output_type": "execute_result"
    }
   ],
   "source": [
    "df.shape\n",
    "df.info()\n",
    "df.isnull().values.any()"
   ]
  },
  {
   "cell_type": "code",
   "execution_count": 99,
   "id": "137e6773-5d0c-491b-a201-2d1ccbb3662f",
   "metadata": {},
   "outputs": [
    {
     "data": {
      "text/html": [
       "<div>\n",
       "<style scoped>\n",
       "    .dataframe tbody tr th:only-of-type {\n",
       "        vertical-align: middle;\n",
       "    }\n",
       "\n",
       "    .dataframe tbody tr th {\n",
       "        vertical-align: top;\n",
       "    }\n",
       "\n",
       "    .dataframe thead tr th {\n",
       "        text-align: left;\n",
       "    }\n",
       "\n",
       "    .dataframe thead tr:last-of-type th {\n",
       "        text-align: right;\n",
       "    }\n",
       "</style>\n",
       "<table border=\"1\" class=\"dataframe\">\n",
       "  <thead>\n",
       "    <tr>\n",
       "      <th></th>\n",
       "      <th></th>\n",
       "      <th></th>\n",
       "      <th></th>\n",
       "      <th colspan=\"8\" halign=\"left\">CS</th>\n",
       "      <th colspan=\"2\" halign=\"left\">MaturityDate</th>\n",
       "      <th>...</th>\n",
       "      <th colspan=\"2\" halign=\"left\">MonthsDelinquent</th>\n",
       "      <th colspan=\"8\" halign=\"left\">MonthsInRepayment</th>\n",
       "    </tr>\n",
       "    <tr>\n",
       "      <th></th>\n",
       "      <th></th>\n",
       "      <th></th>\n",
       "      <th></th>\n",
       "      <th>count</th>\n",
       "      <th>mean</th>\n",
       "      <th>std</th>\n",
       "      <th>min</th>\n",
       "      <th>25%</th>\n",
       "      <th>50%</th>\n",
       "      <th>75%</th>\n",
       "      <th>max</th>\n",
       "      <th>count</th>\n",
       "      <th>mean</th>\n",
       "      <th>...</th>\n",
       "      <th>75%</th>\n",
       "      <th>max</th>\n",
       "      <th>count</th>\n",
       "      <th>mean</th>\n",
       "      <th>std</th>\n",
       "      <th>min</th>\n",
       "      <th>25%</th>\n",
       "      <th>50%</th>\n",
       "      <th>75%</th>\n",
       "      <th>max</th>\n",
       "    </tr>\n",
       "    <tr>\n",
       "      <th>CreditRange</th>\n",
       "      <th>IsFirstTime</th>\n",
       "      <th>LTV_range</th>\n",
       "      <th>Repay_range</th>\n",
       "      <th></th>\n",
       "      <th></th>\n",
       "      <th></th>\n",
       "      <th></th>\n",
       "      <th></th>\n",
       "      <th></th>\n",
       "      <th></th>\n",
       "      <th></th>\n",
       "      <th></th>\n",
       "      <th></th>\n",
       "      <th></th>\n",
       "      <th></th>\n",
       "      <th></th>\n",
       "      <th></th>\n",
       "      <th></th>\n",
       "      <th></th>\n",
       "      <th></th>\n",
       "      <th></th>\n",
       "      <th></th>\n",
       "      <th></th>\n",
       "      <th></th>\n",
       "    </tr>\n",
       "  </thead>\n",
       "  <tbody>\n",
       "    <tr>\n",
       "      <th rowspan=\"5\" valign=\"top\">Poor</th>\n",
       "      <th rowspan=\"5\" valign=\"top\">0</th>\n",
       "      <th rowspan=\"5\" valign=\"top\">Low</th>\n",
       "      <th>Poor</th>\n",
       "      <td>16.0</td>\n",
       "      <td>628.500000</td>\n",
       "      <td>20.053262</td>\n",
       "      <td>574.0</td>\n",
       "      <td>617.0</td>\n",
       "      <td>632.0</td>\n",
       "      <td>645.5</td>\n",
       "      <td>650.0</td>\n",
       "      <td>16.0</td>\n",
       "      <td>202903.187500</td>\n",
       "      <td>...</td>\n",
       "      <td>0.00</td>\n",
       "      <td>4.0</td>\n",
       "      <td>16.0</td>\n",
       "      <td>33.937500</td>\n",
       "      <td>9.636519</td>\n",
       "      <td>12.0</td>\n",
       "      <td>30.25</td>\n",
       "      <td>33.5</td>\n",
       "      <td>41.25</td>\n",
       "      <td>46.0</td>\n",
       "    </tr>\n",
       "    <tr>\n",
       "      <th>Fair</th>\n",
       "      <td>13.0</td>\n",
       "      <td>635.384615</td>\n",
       "      <td>13.859644</td>\n",
       "      <td>599.0</td>\n",
       "      <td>630.0</td>\n",
       "      <td>633.0</td>\n",
       "      <td>647.0</td>\n",
       "      <td>650.0</td>\n",
       "      <td>13.0</td>\n",
       "      <td>202903.153846</td>\n",
       "      <td>...</td>\n",
       "      <td>0.00</td>\n",
       "      <td>11.0</td>\n",
       "      <td>13.0</td>\n",
       "      <td>60.076923</td>\n",
       "      <td>13.683698</td>\n",
       "      <td>49.0</td>\n",
       "      <td>51.00</td>\n",
       "      <td>54.0</td>\n",
       "      <td>65.00</td>\n",
       "      <td>93.0</td>\n",
       "    </tr>\n",
       "    <tr>\n",
       "      <th>Good</th>\n",
       "      <td>3.0</td>\n",
       "      <td>637.333333</td>\n",
       "      <td>7.094599</td>\n",
       "      <td>631.0</td>\n",
       "      <td>633.5</td>\n",
       "      <td>636.0</td>\n",
       "      <td>640.5</td>\n",
       "      <td>645.0</td>\n",
       "      <td>3.0</td>\n",
       "      <td>202902.666667</td>\n",
       "      <td>...</td>\n",
       "      <td>0.00</td>\n",
       "      <td>0.0</td>\n",
       "      <td>3.0</td>\n",
       "      <td>123.333333</td>\n",
       "      <td>10.115994</td>\n",
       "      <td>117.0</td>\n",
       "      <td>117.50</td>\n",
       "      <td>118.0</td>\n",
       "      <td>126.50</td>\n",
       "      <td>135.0</td>\n",
       "    </tr>\n",
       "    <tr>\n",
       "      <th>Very Good</th>\n",
       "      <td>2.0</td>\n",
       "      <td>608.000000</td>\n",
       "      <td>35.355339</td>\n",
       "      <td>583.0</td>\n",
       "      <td>595.5</td>\n",
       "      <td>608.0</td>\n",
       "      <td>620.5</td>\n",
       "      <td>633.0</td>\n",
       "      <td>2.0</td>\n",
       "      <td>202902.500000</td>\n",
       "      <td>...</td>\n",
       "      <td>0.75</td>\n",
       "      <td>1.0</td>\n",
       "      <td>2.0</td>\n",
       "      <td>173.000000</td>\n",
       "      <td>22.627417</td>\n",
       "      <td>157.0</td>\n",
       "      <td>165.00</td>\n",
       "      <td>173.0</td>\n",
       "      <td>181.00</td>\n",
       "      <td>189.0</td>\n",
       "    </tr>\n",
       "    <tr>\n",
       "      <th>Excellent</th>\n",
       "      <td>1.0</td>\n",
       "      <td>631.000000</td>\n",
       "      <td>NaN</td>\n",
       "      <td>631.0</td>\n",
       "      <td>631.0</td>\n",
       "      <td>631.0</td>\n",
       "      <td>631.0</td>\n",
       "      <td>631.0</td>\n",
       "      <td>1.0</td>\n",
       "      <td>202903.000000</td>\n",
       "      <td>...</td>\n",
       "      <td>93.00</td>\n",
       "      <td>93.0</td>\n",
       "      <td>1.0</td>\n",
       "      <td>193.000000</td>\n",
       "      <td>NaN</td>\n",
       "      <td>193.0</td>\n",
       "      <td>193.00</td>\n",
       "      <td>193.0</td>\n",
       "      <td>193.00</td>\n",
       "      <td>193.0</td>\n",
       "    </tr>\n",
       "    <tr>\n",
       "      <th>...</th>\n",
       "      <th>...</th>\n",
       "      <th>...</th>\n",
       "      <th>...</th>\n",
       "      <td>...</td>\n",
       "      <td>...</td>\n",
       "      <td>...</td>\n",
       "      <td>...</td>\n",
       "      <td>...</td>\n",
       "      <td>...</td>\n",
       "      <td>...</td>\n",
       "      <td>...</td>\n",
       "      <td>...</td>\n",
       "      <td>...</td>\n",
       "      <td>...</td>\n",
       "      <td>...</td>\n",
       "      <td>...</td>\n",
       "      <td>...</td>\n",
       "      <td>...</td>\n",
       "      <td>...</td>\n",
       "      <td>...</td>\n",
       "      <td>...</td>\n",
       "      <td>...</td>\n",
       "      <td>...</td>\n",
       "      <td>...</td>\n",
       "    </tr>\n",
       "    <tr>\n",
       "      <th rowspan=\"5\" valign=\"top\">Excellent</th>\n",
       "      <th rowspan=\"5\" valign=\"top\">1</th>\n",
       "      <th rowspan=\"5\" valign=\"top\">High</th>\n",
       "      <th>Poor</th>\n",
       "      <td>3033.0</td>\n",
       "      <td>772.002638</td>\n",
       "      <td>20.537789</td>\n",
       "      <td>751.0</td>\n",
       "      <td>758.0</td>\n",
       "      <td>767.0</td>\n",
       "      <td>779.0</td>\n",
       "      <td>850.0</td>\n",
       "      <td>3033.0</td>\n",
       "      <td>202903.363666</td>\n",
       "      <td>...</td>\n",
       "      <td>0.00</td>\n",
       "      <td>30.0</td>\n",
       "      <td>3033.0</td>\n",
       "      <td>34.726344</td>\n",
       "      <td>11.505919</td>\n",
       "      <td>1.0</td>\n",
       "      <td>28.00</td>\n",
       "      <td>38.0</td>\n",
       "      <td>44.00</td>\n",
       "      <td>48.0</td>\n",
       "    </tr>\n",
       "    <tr>\n",
       "      <th>Fair</th>\n",
       "      <td>2201.0</td>\n",
       "      <td>773.215811</td>\n",
       "      <td>21.250652</td>\n",
       "      <td>751.0</td>\n",
       "      <td>759.0</td>\n",
       "      <td>768.0</td>\n",
       "      <td>780.0</td>\n",
       "      <td>850.0</td>\n",
       "      <td>2201.0</td>\n",
       "      <td>202902.715129</td>\n",
       "      <td>...</td>\n",
       "      <td>0.00</td>\n",
       "      <td>53.0</td>\n",
       "      <td>2201.0</td>\n",
       "      <td>59.051795</td>\n",
       "      <td>11.058894</td>\n",
       "      <td>49.0</td>\n",
       "      <td>51.00</td>\n",
       "      <td>54.0</td>\n",
       "      <td>63.00</td>\n",
       "      <td>96.0</td>\n",
       "    </tr>\n",
       "    <tr>\n",
       "      <th>Good</th>\n",
       "      <td>474.0</td>\n",
       "      <td>775.510549</td>\n",
       "      <td>19.739233</td>\n",
       "      <td>751.0</td>\n",
       "      <td>761.0</td>\n",
       "      <td>772.0</td>\n",
       "      <td>786.0</td>\n",
       "      <td>850.0</td>\n",
       "      <td>474.0</td>\n",
       "      <td>202903.120253</td>\n",
       "      <td>...</td>\n",
       "      <td>0.00</td>\n",
       "      <td>91.0</td>\n",
       "      <td>474.0</td>\n",
       "      <td>120.763713</td>\n",
       "      <td>13.574284</td>\n",
       "      <td>97.0</td>\n",
       "      <td>109.00</td>\n",
       "      <td>120.0</td>\n",
       "      <td>132.00</td>\n",
       "      <td>144.0</td>\n",
       "    </tr>\n",
       "    <tr>\n",
       "      <th>Very Good</th>\n",
       "      <td>312.0</td>\n",
       "      <td>778.102564</td>\n",
       "      <td>20.924510</td>\n",
       "      <td>751.0</td>\n",
       "      <td>764.0</td>\n",
       "      <td>774.0</td>\n",
       "      <td>787.0</td>\n",
       "      <td>850.0</td>\n",
       "      <td>312.0</td>\n",
       "      <td>202903.048077</td>\n",
       "      <td>...</td>\n",
       "      <td>0.00</td>\n",
       "      <td>92.0</td>\n",
       "      <td>312.0</td>\n",
       "      <td>165.564103</td>\n",
       "      <td>13.374728</td>\n",
       "      <td>145.0</td>\n",
       "      <td>154.00</td>\n",
       "      <td>165.0</td>\n",
       "      <td>176.00</td>\n",
       "      <td>191.0</td>\n",
       "    </tr>\n",
       "    <tr>\n",
       "      <th>Excellent</th>\n",
       "      <td>241.0</td>\n",
       "      <td>784.340249</td>\n",
       "      <td>27.568105</td>\n",
       "      <td>751.0</td>\n",
       "      <td>765.0</td>\n",
       "      <td>779.0</td>\n",
       "      <td>792.0</td>\n",
       "      <td>850.0</td>\n",
       "      <td>241.0</td>\n",
       "      <td>202903.112033</td>\n",
       "      <td>...</td>\n",
       "      <td>1.00</td>\n",
       "      <td>118.0</td>\n",
       "      <td>241.0</td>\n",
       "      <td>208.224066</td>\n",
       "      <td>4.822646</td>\n",
       "      <td>193.0</td>\n",
       "      <td>209.00</td>\n",
       "      <td>210.0</td>\n",
       "      <td>211.00</td>\n",
       "      <td>212.0</td>\n",
       "    </tr>\n",
       "  </tbody>\n",
       "</table>\n",
       "<p>110 rows × 104 columns</p>\n",
       "</div>"
      ],
      "text/plain": [
       "                                                   CS                         \\\n",
       "                                                count        mean        std   \n",
       "CreditRange IsFirstTime LTV_range Repay_range                                  \n",
       "Poor        0           Low       Poor           16.0  628.500000  20.053262   \n",
       "                                  Fair           13.0  635.384615  13.859644   \n",
       "                                  Good            3.0  637.333333   7.094599   \n",
       "                                  Very Good       2.0  608.000000  35.355339   \n",
       "                                  Excellent       1.0  631.000000        NaN   \n",
       "...                                               ...         ...        ...   \n",
       "Excellent   1           High      Poor         3033.0  772.002638  20.537789   \n",
       "                                  Fair         2201.0  773.215811  21.250652   \n",
       "                                  Good          474.0  775.510549  19.739233   \n",
       "                                  Very Good     312.0  778.102564  20.924510   \n",
       "                                  Excellent     241.0  784.340249  27.568105   \n",
       "\n",
       "                                                                           \\\n",
       "                                                 min    25%    50%    75%   \n",
       "CreditRange IsFirstTime LTV_range Repay_range                               \n",
       "Poor        0           Low       Poor         574.0  617.0  632.0  645.5   \n",
       "                                  Fair         599.0  630.0  633.0  647.0   \n",
       "                                  Good         631.0  633.5  636.0  640.5   \n",
       "                                  Very Good    583.0  595.5  608.0  620.5   \n",
       "                                  Excellent    631.0  631.0  631.0  631.0   \n",
       "...                                              ...    ...    ...    ...   \n",
       "Excellent   1           High      Poor         751.0  758.0  767.0  779.0   \n",
       "                                  Fair         751.0  759.0  768.0  780.0   \n",
       "                                  Good         751.0  761.0  772.0  786.0   \n",
       "                                  Very Good    751.0  764.0  774.0  787.0   \n",
       "                                  Excellent    751.0  765.0  779.0  792.0   \n",
       "\n",
       "                                                     MaturityDate  \\\n",
       "                                                 max        count   \n",
       "CreditRange IsFirstTime LTV_range Repay_range                       \n",
       "Poor        0           Low       Poor         650.0         16.0   \n",
       "                                  Fair         650.0         13.0   \n",
       "                                  Good         645.0          3.0   \n",
       "                                  Very Good    633.0          2.0   \n",
       "                                  Excellent    631.0          1.0   \n",
       "...                                              ...          ...   \n",
       "Excellent   1           High      Poor         850.0       3033.0   \n",
       "                                  Fair         850.0       2201.0   \n",
       "                                  Good         850.0        474.0   \n",
       "                                  Very Good    850.0        312.0   \n",
       "                                  Excellent    850.0        241.0   \n",
       "\n",
       "                                                              ...  \\\n",
       "                                                        mean  ...   \n",
       "CreditRange IsFirstTime LTV_range Repay_range                 ...   \n",
       "Poor        0           Low       Poor         202903.187500  ...   \n",
       "                                  Fair         202903.153846  ...   \n",
       "                                  Good         202902.666667  ...   \n",
       "                                  Very Good    202902.500000  ...   \n",
       "                                  Excellent    202903.000000  ...   \n",
       "...                                                      ...  ...   \n",
       "Excellent   1           High      Poor         202903.363666  ...   \n",
       "                                  Fair         202902.715129  ...   \n",
       "                                  Good         202903.120253  ...   \n",
       "                                  Very Good    202903.048077  ...   \n",
       "                                  Excellent    202903.112033  ...   \n",
       "\n",
       "                                              MonthsDelinquent         \\\n",
       "                                                           75%    max   \n",
       "CreditRange IsFirstTime LTV_range Repay_range                           \n",
       "Poor        0           Low       Poor                    0.00    4.0   \n",
       "                                  Fair                    0.00   11.0   \n",
       "                                  Good                    0.00    0.0   \n",
       "                                  Very Good               0.75    1.0   \n",
       "                                  Excellent              93.00   93.0   \n",
       "...                                                        ...    ...   \n",
       "Excellent   1           High      Poor                    0.00   30.0   \n",
       "                                  Fair                    0.00   53.0   \n",
       "                                  Good                    0.00   91.0   \n",
       "                                  Very Good               0.00   92.0   \n",
       "                                  Excellent               1.00  118.0   \n",
       "\n",
       "                                              MonthsInRepayment              \\\n",
       "                                                          count        mean   \n",
       "CreditRange IsFirstTime LTV_range Repay_range                                 \n",
       "Poor        0           Low       Poor                     16.0   33.937500   \n",
       "                                  Fair                     13.0   60.076923   \n",
       "                                  Good                      3.0  123.333333   \n",
       "                                  Very Good                 2.0  173.000000   \n",
       "                                  Excellent                 1.0  193.000000   \n",
       "...                                                         ...         ...   \n",
       "Excellent   1           High      Poor                   3033.0   34.726344   \n",
       "                                  Fair                   2201.0   59.051795   \n",
       "                                  Good                    474.0  120.763713   \n",
       "                                  Very Good               312.0  165.564103   \n",
       "                                  Excellent               241.0  208.224066   \n",
       "\n",
       "                                                                         \\\n",
       "                                                     std    min     25%   \n",
       "CreditRange IsFirstTime LTV_range Repay_range                             \n",
       "Poor        0           Low       Poor          9.636519   12.0   30.25   \n",
       "                                  Fair         13.683698   49.0   51.00   \n",
       "                                  Good         10.115994  117.0  117.50   \n",
       "                                  Very Good    22.627417  157.0  165.00   \n",
       "                                  Excellent          NaN  193.0  193.00   \n",
       "...                                                  ...    ...     ...   \n",
       "Excellent   1           High      Poor         11.505919    1.0   28.00   \n",
       "                                  Fair         11.058894   49.0   51.00   \n",
       "                                  Good         13.574284   97.0  109.00   \n",
       "                                  Very Good    13.374728  145.0  154.00   \n",
       "                                  Excellent     4.822646  193.0  209.00   \n",
       "\n",
       "                                                                     \n",
       "                                                 50%     75%    max  \n",
       "CreditRange IsFirstTime LTV_range Repay_range                        \n",
       "Poor        0           Low       Poor          33.5   41.25   46.0  \n",
       "                                  Fair          54.0   65.00   93.0  \n",
       "                                  Good         118.0  126.50  135.0  \n",
       "                                  Very Good    173.0  181.00  189.0  \n",
       "                                  Excellent    193.0  193.00  193.0  \n",
       "...                                              ...     ...    ...  \n",
       "Excellent   1           High      Poor          38.0   44.00   48.0  \n",
       "                                  Fair          54.0   63.00   96.0  \n",
       "                                  Good         120.0  132.00  144.0  \n",
       "                                  Very Good    165.0  176.00  191.0  \n",
       "                                  Excellent    210.0  211.00  212.0  \n",
       "\n",
       "[110 rows x 104 columns]"
      ]
     },
     "execution_count": 99,
     "metadata": {},
     "output_type": "execute_result"
    }
   ],
   "source": [
    "df_grouped = df.groupby(by=['CreditRange','IsFirstTime','LTV_range','Repay_range'], observed=True)\n",
    "df_grouped.describe()"
   ]
  },
  {
   "cell_type": "code",
   "execution_count": 102,
   "id": "d133439c-d0da-476d-a6b7-b71da185e65d",
   "metadata": {},
   "outputs": [],
   "source": [
    "df.to_csv('LoanExport.csv', index=False)"
   ]
  },
  {
   "cell_type": "code",
   "execution_count": null,
   "id": "597c4b92-8c7a-478a-8155-bb7dcd2bb2ac",
   "metadata": {},
   "outputs": [],
   "source": []
  }
 ],
 "metadata": {
  "kernelspec": {
   "display_name": "Python 3 (ipykernel)",
   "language": "python",
   "name": "python3"
  },
  "language_info": {
   "codemirror_mode": {
    "name": "ipython",
    "version": 3
   },
   "file_extension": ".py",
   "mimetype": "text/x-python",
   "name": "python",
   "nbconvert_exporter": "python",
   "pygments_lexer": "ipython3",
   "version": "3.12.1"
  }
 },
 "nbformat": 4,
 "nbformat_minor": 5
}
